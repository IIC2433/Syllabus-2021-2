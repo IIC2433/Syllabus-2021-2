{
 "cells": [
  {
   "cell_type": "markdown",
   "metadata": {},
   "source": [
    "# Trabajo con Pandas\n",
    "\n",
    "Vamos a hacer un pequeño ejercicio de precalentamiento para trabajar con Pandas. Nosotros proveemos una pequeña base, y se supone que tu irás armando más y más, para ir aprendiendo a manejar dataframes. "
   ]
  },
  {
   "cell_type": "markdown",
   "metadata": {},
   "source": [
    "### Visualización de los datos comunales\n",
    "\n",
    "Primero vamos a cargar un `DataFrame` con el nombre, región, presupuesto y población de cada comuna, y un poco de limpieza de datos"
   ]
  },
  {
   "cell_type": "markdown",
   "metadata": {},
   "source": [
    "Los siguientes tres bloques exportan codigos.csv (codigos de comuna), población.csv (cuanta gente vive en la comuna) y presupuesto.csv (el presupuesto comunal). Evitamos descrbir más los datasets, pero puedes llamar a una descripción usando dataframe.info()"
   ]
  },
  {
   "cell_type": "code",
   "execution_count": 1,
   "metadata": {},
   "outputs": [
    {
     "name": "stdout",
     "output_type": "stream",
     "text": [
      "<class 'pandas.core.frame.DataFrame'>\n",
      "RangeIndex: 346 entries, 0 to 345\n",
      "Data columns (total 7 columns):\n",
      " #   Column              Non-Null Count  Dtype \n",
      "---  ------              --------------  ----- \n",
      " 0   Código Región       346 non-null    int64 \n",
      " 1   Nombre Región       346 non-null    object\n",
      " 2   Abreviatura Región  346 non-null    object\n",
      " 3   Código Provincia    346 non-null    int64 \n",
      " 4   Nombre Provincia    346 non-null    object\n",
      " 5   Código Comuna 2018  346 non-null    int64 \n",
      " 6   Nombre Comuna       346 non-null    object\n",
      "dtypes: int64(3), object(4)\n",
      "memory usage: 19.0+ KB\n"
     ]
    }
   ],
   "source": [
    "import pandas as pd\n",
    "\n",
    "df_codigos = pd.read_csv(\"codigos.csv\", delimiter=';')\n",
    "df_codigos.info()"
   ]
  },
  {
   "cell_type": "code",
   "execution_count": 3,
   "metadata": {},
   "outputs": [],
   "source": [
    "df_poblacion = pd.read_csv(\"poblacion.csv\", delimiter=';')\n"
   ]
  },
  {
   "cell_type": "code",
   "execution_count": 6,
   "metadata": {},
   "outputs": [
    {
     "name": "stdout",
     "output_type": "stream",
     "text": [
      "<class 'pandas.core.frame.DataFrame'>\n",
      "RangeIndex: 345 entries, 0 to 344\n",
      "Data columns (total 3 columns):\n",
      " #   Column       Non-Null Count  Dtype \n",
      "---  ------       --------------  ----- \n",
      " 0   CODIGO       345 non-null    int64 \n",
      " 1   MUNICIPIO    345 non-null    object\n",
      " 2   PRESUPUESTO  345 non-null    object\n",
      "dtypes: int64(1), object(2)\n",
      "memory usage: 8.2+ KB\n"
     ]
    }
   ],
   "source": [
    "df_presupuesto = pd.read_csv(\"presupuesto_2019.csv\", delimiter=';')\n",
    "df_presupuesto.info()"
   ]
  },
  {
   "cell_type": "markdown",
   "metadata": {},
   "source": [
    "### Limpieza\n",
    "\n",
    "Fijate que el ítem PRESUPUESTO es de tipo object, y no int. Por qué será esto? \n",
    "- inspecciona que esta pasando con PRESUPUESTO\n",
    "- arreglalo. Una posibilidad es que los presupuestos que no están se reemplacen con un 0, otra es sacar esas filas. \n",
    "- corre df_presupuesto['PRESUPUESTO'] = df_presupuesto['PRESUPUESTO'].astype(int) para castear bien el presupuesto"
   ]
  },
  {
   "cell_type": "code",
   "execution_count": null,
   "metadata": {},
   "outputs": [],
   "source": [
    "\n",
    "\n",
    "\n",
    "\n"
   ]
  },
  {
   "cell_type": "markdown",
   "metadata": {},
   "source": [
    "### Joins\n",
    "\n",
    "Las siguientes líneas nos van a servir para hacer `merge` entre los _datasets_. Tenemos solo un join, tu debes escribir lo que falta para tener un solo dataframe que tenga una fila por comuna, con todos los datos. **IMPORTANTE** Muchas veces, cuando apliquemos técnicas de estadística o machine learning, vamos a buscar esta forma, en donde todas las entidades son un vector. \n",
    "\n",
    "**Consejo**: una vez que hagas los joins, te aconsejamos quedarte solo con ['Nombre Comuna', 'POBLACIÓN', 'PRESUPUESTO', 'Nombre Región']. \n",
    "\n"
   ]
  },
  {
   "cell_type": "code",
   "execution_count": 8,
   "metadata": {},
   "outputs": [
    {
     "name": "stdout",
     "output_type": "stream",
     "text": [
      "<class 'pandas.core.frame.DataFrame'>\n",
      "Int64Index: 345 entries, 0 to 344\n",
      "Data columns (total 10 columns):\n",
      " #   Column              Non-Null Count  Dtype \n",
      "---  ------              --------------  ----- \n",
      " 0   Código Región       345 non-null    int64 \n",
      " 1   Nombre Región       345 non-null    object\n",
      " 2   Abreviatura Región  345 non-null    object\n",
      " 3   Código Provincia    345 non-null    int64 \n",
      " 4   Nombre Provincia    345 non-null    object\n",
      " 5   Código Comuna 2018  345 non-null    int64 \n",
      " 6   Nombre Comuna       345 non-null    object\n",
      " 7   CODIGO              345 non-null    int64 \n",
      " 8   MUNICIPIO           345 non-null    object\n",
      " 9   POBLACIÓN           345 non-null    int64 \n",
      "dtypes: int64(5), object(5)\n",
      "memory usage: 29.6+ KB\n"
     ]
    }
   ],
   "source": [
    "df_extended = df_codigos.merge(df_poblacion, left_on='Código Comuna 2018', right_on='CODIGO')\n",
    "df_extended.info()"
   ]
  },
  {
   "cell_type": "code",
   "execution_count": 14,
   "metadata": {},
   "outputs": [
    {
     "name": "stdout",
     "output_type": "stream",
     "text": [
      "<class 'pandas.core.frame.DataFrame'>\n",
      "Int64Index: 345 entries, 0 to 344\n",
      "Data columns (total 4 columns):\n",
      " #   Column         Non-Null Count  Dtype \n",
      "---  ------         --------------  ----- \n",
      " 0   Nombre Comuna  345 non-null    object\n",
      " 1   POBLACIÓN      345 non-null    int64 \n",
      " 2   PRESUPUESTO    345 non-null    int32 \n",
      " 3   Nombre Región  345 non-null    object\n",
      "dtypes: int32(1), int64(1), object(2)\n",
      "memory usage: 12.1+ KB\n"
     ]
    }
   ],
   "source": [
    "df_extended.info()\n",
    "\n"
   ]
  },
  {
   "cell_type": "markdown",
   "metadata": {},
   "source": [
    "Y ahora vamos a hacer un gráfico interactivo donde se vea el presupuesto en función de la población. ¿Puedes ver un outlier?"
   ]
  },
  {
   "cell_type": "code",
   "execution_count": 16,
   "metadata": {},
   "outputs": [
    {
     "data": {
      "text/plain": [
       "Text(0, 0.5, 'Presupuesto')"
      ]
     },
     "execution_count": 16,
     "metadata": {},
     "output_type": "execute_result"
    },
    {
     "data": {
      "image/png": "[encoded data removed]",
      "text/plain": [
       "<Figure size 432x288 with 1 Axes>"
      ]
     },
     "metadata": {
      "needs_background": "light"
     },
     "output_type": "display_data"
    }
   ],
   "source": [
    "import matplotlib.pyplot as plt\n",
    "\n",
    "fig = plt.figure()\n",
    "ax = fig.add_axes([0,0,1,1])\n",
    "ax.scatter(df_extended['POBLACIÓN'], df_extended['PRESUPUESTO'])\n",
    "ax.set_xlabel('Población ')\n",
    "ax.set_ylabel('Presupuesto')\n"
   ]
  },
  {
   "cell_type": "markdown",
   "metadata": {},
   "source": [
    "## De aquí hacia abajo puedes completar el resto de la actividad! "
   ]
  },
  {
   "cell_type": "code",
   "execution_count": null,
   "metadata": {},
   "outputs": [],
   "source": []
  }
 ],
 "metadata": {
  "kernelspec": {
   "display_name": "Python 3 (ipykernel)",
   "language": "python",
   "name": "python3"
  },
  "language_info": {
   "codemirror_mode": {
    "name": "ipython",
    "version": 3
   },
   "file_extension": ".py",
   "mimetype": "text/x-python",
   "name": "python",
   "nbconvert_exporter": "python",
   "pygments_lexer": "ipython3",
   "version": "3.9.4"
  }
 },
 "nbformat": 4,
 "nbformat_minor": 4
}
