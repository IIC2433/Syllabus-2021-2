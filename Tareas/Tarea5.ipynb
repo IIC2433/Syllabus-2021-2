{
 "cells": [
  {
   "cell_type": "code",
   "execution_count": null,
   "id": "83c4490d",
   "metadata": {},
   "outputs": [],
   "source": [
    "import pandas as pd\n",
    "\n",
    "intervenciones = pd.read_csv('intervenciones.csv')\n",
    "constituyentes = pd.read_csv('leg_data_party.csv',encoding='ISO-8859-1')"
   ]
  }
 ],
 "metadata": {
  "kernelspec": {
   "display_name": "Python 3 (ipykernel)",
   "language": "python",
   "name": "python3"
  },
  "language_info": {
   "codemirror_mode": {
    "name": "ipython",
    "version": 3
   },
   "file_extension": ".py",
   "mimetype": "text/x-python",
   "name": "python",
   "nbconvert_exporter": "python",
   "pygments_lexer": "ipython3",
   "version": "3.9.4"
  }
 },
 "nbformat": 4,
 "nbformat_minor": 5
}
