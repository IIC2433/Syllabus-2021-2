{
 "cells": [
  {
   "cell_type": "markdown",
   "id": "b2a52427",
   "metadata": {},
   "source": [
    "# Tarea 2\n",
    "\n",
    "La meta de esta tarea es mejorar el 0,48 de accuracy que obtuvo el árbol de decisión entrenado para el dataset de helados, con un train/test split de 75-25. Partamos por cargar el dataset y el split. \n",
    "\n",
    "### Detalles administrativos\n",
    "\n",
    "La tarea es individual. Para la entrega, sube este notebook al cuestionario del siding, el plazo para hacerlo es el **Viernes 24 de Septiembre, a las 20:00 hrs**. "
   ]
  },
  {
   "cell_type": "code",
   "execution_count": 102,
   "id": "1c6e3829",
   "metadata": {},
   "outputs": [
    {
     "data": {
      "text/html": [
       "<div>\n",
       "<style scoped>\n",
       "    .dataframe tbody tr th:only-of-type {\n",
       "        vertical-align: middle;\n",
       "    }\n",
       "\n",
       "    .dataframe tbody tr th {\n",
       "        vertical-align: top;\n",
       "    }\n",
       "\n",
       "    .dataframe thead th {\n",
       "        text-align: right;\n",
       "    }\n",
       "</style>\n",
       "<table border=\"1\" class=\"dataframe\">\n",
       "  <thead>\n",
       "    <tr style=\"text-align: right;\">\n",
       "      <th></th>\n",
       "      <th>Unnamed: 0</th>\n",
       "      <th>id</th>\n",
       "      <th>female</th>\n",
       "      <th>ice_cream</th>\n",
       "      <th>video</th>\n",
       "      <th>puzzle</th>\n",
       "    </tr>\n",
       "  </thead>\n",
       "  <tbody>\n",
       "    <tr>\n",
       "      <th>0</th>\n",
       "      <td>0</td>\n",
       "      <td>70</td>\n",
       "      <td>0</td>\n",
       "      <td>0</td>\n",
       "      <td>47</td>\n",
       "      <td>57</td>\n",
       "    </tr>\n",
       "    <tr>\n",
       "      <th>1</th>\n",
       "      <td>1</td>\n",
       "      <td>121</td>\n",
       "      <td>1</td>\n",
       "      <td>1</td>\n",
       "      <td>63</td>\n",
       "      <td>61</td>\n",
       "    </tr>\n",
       "    <tr>\n",
       "      <th>2</th>\n",
       "      <td>2</td>\n",
       "      <td>86</td>\n",
       "      <td>0</td>\n",
       "      <td>0</td>\n",
       "      <td>58</td>\n",
       "      <td>31</td>\n",
       "    </tr>\n",
       "    <tr>\n",
       "      <th>3</th>\n",
       "      <td>3</td>\n",
       "      <td>141</td>\n",
       "      <td>0</td>\n",
       "      <td>0</td>\n",
       "      <td>53</td>\n",
       "      <td>56</td>\n",
       "    </tr>\n",
       "    <tr>\n",
       "      <th>4</th>\n",
       "      <td>4</td>\n",
       "      <td>172</td>\n",
       "      <td>0</td>\n",
       "      <td>1</td>\n",
       "      <td>53</td>\n",
       "      <td>61</td>\n",
       "    </tr>\n",
       "  </tbody>\n",
       "</table>\n",
       "</div>"
      ],
      "text/plain": [
       "   Unnamed: 0   id  female  ice_cream  video  puzzle\n",
       "0           0   70       0          0     47      57\n",
       "1           1  121       1          1     63      61\n",
       "2           2   86       0          0     58      31\n",
       "3           3  141       0          0     53      56\n",
       "4           4  172       0          1     53      61"
      ]
     },
     "execution_count": 102,
     "metadata": {},
     "output_type": "execute_result"
    }
   ],
   "source": [
    "import pandas as pd\n",
    "helados = pd.read_csv('Ice_cream.csv')\n",
    "helados.head()"
   ]
  },
  {
   "cell_type": "code",
   "execution_count": null,
   "id": "f3310e06",
   "metadata": {},
   "outputs": [],
   "source": [
    "from sklearn.model_selection import train_test_split\n",
    "\n",
    "X_train, X_test, y_train, y_test = train_test_split(helados[[\"female\",\"puzzle\",\"video\"]], helados[\"ice_cream\"], test_size=0.25, random_state=42)\n"
   ]
  },
  {
   "cell_type": "markdown",
   "id": "116bd74b",
   "metadata": {},
   "source": [
    "## Parte I: boosting simple\n",
    "\n",
    "Lo primero que vas a hacer es un modelo de boosting simple. Implementa una clase que tenga metodos _fit_ y _predict_.\n",
    "\n",
    "El método fit recibe un set X, y para entrenar, donde X es un dataframe e y es una serie de números 0 o 1, y hace lo siguiente: \n",
    "- primero entrena un árbol de decisión A1(por ejemplo, usando sklearn como vimos en clases) con X e y\n",
    "- Sea C el conjunto de tuplas en X para los cuales A1 clasificó mal (es decir, el resultado de A1 para esa tupla es distinto de lo que tiene y), y sea y_c el pedazo de y correspondiente a esas tuplas. \n",
    "- ahora entrena un árbol de decisión A2, pero usando solo C, y_c. \n",
    "\n",
    "El método predict recibe un set X (del mismo número de dimensiones que el que se uso para fit), y ejecuta lo siguiente: \n",
    "- usa _predict_proba_ o un método similar para conseguir las probabilidades según el árbol A1 de que cada tupla en X sea clasificada como **1**\n",
    "- usa _predict_proba_ o un método similar para conseguir las probabilidades según el árbol A2 de que cada tupla en X sea clasificada como **1**\n",
    "- sea p la probabilidad calculada como 0,7 veces la proabilidad según A1 y 0,3 veces la probabilidad según A2. Tu clase predice clase 1 si p es **mayor** que 0.5, y si no predice un 0. \n"
   ]
  },
  {
   "cell_type": "code",
   "execution_count": 111,
   "id": "3abe41f3",
   "metadata": {},
   "outputs": [],
   "source": [
    "### escribe tu clase aquí"
   ]
  },
  {
   "cell_type": "markdown",
   "id": "0d6ad5f1",
   "metadata": {},
   "source": [
    "Lo segundo: Usa ahora el set de datos de test para ver el accuracy score de tu clase cuando se entrena con los datos de train de los helados pero se testea con el set de test. ¿Cómo se compara con la del árbol 1? ¿Con la del árbol 2? "
   ]
  },
  {
   "cell_type": "code",
   "execution_count": null,
   "id": "4fa0eae7",
   "metadata": {},
   "outputs": [],
   "source": []
  },
  {
   "cell_type": "markdown",
   "id": "9338b8c9",
   "metadata": {},
   "source": [
    "\n",
    "## Parte 2: agregando árboles\n",
    "\n",
    "Modifica acá abajo tu clase para que agregue un tercér árbol, que se entrene sobre el subconjunto de tuplas de C que el árbol 2 no logra clasificar bien, o bien (si este subconjunto es vacío), sobre el conjunto C' de tuplas de X que el clasificador de la parte I no logra clasificar bien. \n",
    "\n",
    "Busca si hay algún valor de pesos que puedes entregarles a los árboles en el método _predict_ para que tu nuevo clasificador mejore su accuracy score con el set de test (con pesos nos referimos a la ponderación que se le da a la probabilidad de cada árbol - para la clase con dos árboles los pesos fueron 0.7 y 0.3). Puedes limitar tu búsqueda a valores de alfa con un decimal: 0, 0.1, 0.2, hasta 0.9, 1. \n"
   ]
  },
  {
   "cell_type": "code",
   "execution_count": null,
   "id": "d0352e99",
   "metadata": {},
   "outputs": [],
   "source": [
    "### escribe la clase modificada aquí\n",
    "\n",
    "\n",
    "\n",
    "\n",
    "\n",
    "\n"
   ]
  },
  {
   "cell_type": "code",
   "execution_count": 112,
   "id": "f4403d18",
   "metadata": {},
   "outputs": [],
   "source": [
    "### busca el alfa o reporta el alfa encontrado acá. \n"
   ]
  }
 ],
 "metadata": {
  "kernelspec": {
   "display_name": "Python 3 (ipykernel)",
   "language": "python",
   "name": "python3"
  },
  "language_info": {
   "codemirror_mode": {
    "name": "ipython",
    "version": 3
   },
   "file_extension": ".py",
   "mimetype": "text/x-python",
   "name": "python",
   "nbconvert_exporter": "python",
   "pygments_lexer": "ipython3",
   "version": "3.9.4"
  }
 },
 "nbformat": 4,
 "nbformat_minor": 5
}
