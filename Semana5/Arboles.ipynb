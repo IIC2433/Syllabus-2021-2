{
 "cells": [
  {
   "cell_type": "markdown",
   "id": "fa072968",
   "metadata": {},
   "source": [
    "# Árboles de decisión\n",
    "\n",
    "Vamos a trabajar sobre el dataset de helados (promesa: es la última vez), para poder ir comparando este clasificador con lo que hacían otros. "
   ]
  },
  {
   "cell_type": "code",
   "execution_count": 2,
   "id": "1c6e3829",
   "metadata": {},
   "outputs": [
    {
     "data": {
      "text/html": [
       "<div>\n",
       "<style scoped>\n",
       "    .dataframe tbody tr th:only-of-type {\n",
       "        vertical-align: middle;\n",
       "    }\n",
       "\n",
       "    .dataframe tbody tr th {\n",
       "        vertical-align: top;\n",
       "    }\n",
       "\n",
       "    .dataframe thead th {\n",
       "        text-align: right;\n",
       "    }\n",
       "</style>\n",
       "<table border=\"1\" class=\"dataframe\">\n",
       "  <thead>\n",
       "    <tr style=\"text-align: right;\">\n",
       "      <th></th>\n",
       "      <th>Unnamed: 0</th>\n",
       "      <th>id</th>\n",
       "      <th>female</th>\n",
       "      <th>ice_cream</th>\n",
       "      <th>video</th>\n",
       "      <th>puzzle</th>\n",
       "    </tr>\n",
       "  </thead>\n",
       "  <tbody>\n",
       "    <tr>\n",
       "      <th>0</th>\n",
       "      <td>0</td>\n",
       "      <td>70</td>\n",
       "      <td>0</td>\n",
       "      <td>0</td>\n",
       "      <td>47</td>\n",
       "      <td>57</td>\n",
       "    </tr>\n",
       "    <tr>\n",
       "      <th>1</th>\n",
       "      <td>1</td>\n",
       "      <td>121</td>\n",
       "      <td>1</td>\n",
       "      <td>1</td>\n",
       "      <td>63</td>\n",
       "      <td>61</td>\n",
       "    </tr>\n",
       "    <tr>\n",
       "      <th>2</th>\n",
       "      <td>2</td>\n",
       "      <td>86</td>\n",
       "      <td>0</td>\n",
       "      <td>0</td>\n",
       "      <td>58</td>\n",
       "      <td>31</td>\n",
       "    </tr>\n",
       "    <tr>\n",
       "      <th>3</th>\n",
       "      <td>3</td>\n",
       "      <td>141</td>\n",
       "      <td>0</td>\n",
       "      <td>0</td>\n",
       "      <td>53</td>\n",
       "      <td>56</td>\n",
       "    </tr>\n",
       "    <tr>\n",
       "      <th>4</th>\n",
       "      <td>4</td>\n",
       "      <td>172</td>\n",
       "      <td>0</td>\n",
       "      <td>1</td>\n",
       "      <td>53</td>\n",
       "      <td>61</td>\n",
       "    </tr>\n",
       "  </tbody>\n",
       "</table>\n",
       "</div>"
      ],
      "text/plain": [
       "   Unnamed: 0   id  female  ice_cream  video  puzzle\n",
       "0           0   70       0          0     47      57\n",
       "1           1  121       1          1     63      61\n",
       "2           2   86       0          0     58      31\n",
       "3           3  141       0          0     53      56\n",
       "4           4  172       0          1     53      61"
      ]
     },
     "execution_count": 2,
     "metadata": {},
     "output_type": "execute_result"
    }
   ],
   "source": [
    "import pandas as pd\n",
    "helados = pd.read_csv('Ice_cream.csv')\n",
    "helados.head()"
   ]
  },
  {
   "cell_type": "markdown",
   "id": "7658bd16",
   "metadata": {},
   "source": [
    "Lo primero es crear un árbol, lo hacemos con sklearn y lo fiteamos, primero usando solo _video_ y _puzzle_ para graficar y comparar. "
   ]
  },
  {
   "cell_type": "code",
   "execution_count": 3,
   "id": "3abe41f3",
   "metadata": {},
   "outputs": [
    {
     "data": {
      "text/plain": [
       "DecisionTreeClassifier()"
      ]
     },
     "execution_count": 3,
     "metadata": {},
     "output_type": "execute_result"
    }
   ],
   "source": [
    "from sklearn import tree\n",
    "\n",
    "clf = tree.DecisionTreeClassifier()\n",
    "clf.fit(helados[[\"video\",\"puzzle\"]],helados[\"ice_cream\"])\n"
   ]
  },
  {
   "cell_type": "code",
   "execution_count": 5,
   "id": "e55acfae",
   "metadata": {},
   "outputs": [
    {
     "data": {
      "image/png": "[encoded data removed]",
      "text/plain": [
       "<Figure size 432x288 with 1 Axes>"
      ]
     },
     "metadata": {
      "needs_background": "light"
     },
     "output_type": "display_data"
    }
   ],
   "source": [
    "import seaborn as sns\n",
    "\n",
    "import matplotlib.pyplot as plt\n",
    "from matplotlib.colors import ListedColormap\n",
    "import numpy as np\n",
    "\n",
    "palette = sns.color_palette(\"hls\", 8)\n",
    "# Pasamos la paleta a Hexadecimal\n",
    "# Para el fondo necesitamos que sea un Colormap\n",
    "palete_hex = palette.as_hex()\n",
    "palette_back = ListedColormap(palete_hex[0:2])\n",
    "\n",
    "# Límites del gráfico\n",
    "# Buscamos los límites del gráfico\n",
    "x_min, x_max = helados.video.min() - 1, helados.video.max() + 1\n",
    "y_min, y_max = helados.puzzle.min() - 1, helados.puzzle.max() + 1\n",
    "\n",
    "# Generamos las combinaciones de x/y del plano en los rangos\n",
    "xx, yy = np.meshgrid(np.arange(x_min, x_max, 0.1),\n",
    "                     np.arange(y_min, y_max, 0.1))\n",
    "\n",
    "# Generamos las predicciones\n",
    "predictions = clf.predict(np.c_[xx.ravel(), yy.ravel()])\n",
    "\n",
    "# Resultado de la frontera de decisión con color claro\n",
    "Z = predictions.reshape(xx.shape)\n",
    "plt.figure()\n",
    "plt.pcolormesh(xx, yy, Z, cmap=palette_back, shading='auto', alpha=0.2)\n",
    "plt.xlabel('video')\n",
    "plt.ylabel('puzzle')\n",
    "\n",
    "sns.scatterplot(data=helados, x=\"video\", y=\"puzzle\", hue=\"ice_cream\", palette=palette[0:2])\n",
    "\n",
    "plt.xlim(xx.min(), xx.max())\n",
    "plt.ylim(yy.min(), yy.max())\n",
    "plt.legend()\n",
    "\n",
    "plt.show()"
   ]
  },
  {
   "cell_type": "markdown",
   "id": "06ecaa12",
   "metadata": {},
   "source": [
    "Cuál es al accuracy de la predicción:"
   ]
  },
  {
   "cell_type": "code",
   "execution_count": 4,
   "id": "8037963a",
   "metadata": {},
   "outputs": [
    {
     "data": {
      "text/plain": [
       "0.87"
      ]
     },
     "execution_count": 4,
     "metadata": {},
     "output_type": "execute_result"
    }
   ],
   "source": [
    "from sklearn.metrics import accuracy_score\n",
    "\n",
    "clf = tree.DecisionTreeClassifier()\n",
    "clf.fit(helados[[\"female\",\"video\",\"puzzle\"]],helados[\"ice_cream\"])\n",
    "\n",
    "pred = clf.predict(helados[[\"female\",\"video\",\"puzzle\"]])\n",
    "accuracy_score(helados['ice_cream'], pred )\n"
   ]
  },
  {
   "cell_type": "markdown",
   "id": "d3e9e706",
   "metadata": {},
   "source": [
    "Esto no es malo, pero recuerden que estamos midiendo con el mismo dataset. ¿Qué pasa si medimos ahora el accuracy con una división de train/test de 75% - 25%? ¡Vemos que nuestro clasificador es peor que tirar una moneda! "
   ]
  },
  {
   "cell_type": "code",
   "execution_count": 8,
   "id": "41598723",
   "metadata": {},
   "outputs": [
    {
     "data": {
      "text/plain": [
       "0.48"
      ]
     },
     "execution_count": 8,
     "metadata": {},
     "output_type": "execute_result"
    }
   ],
   "source": [
    "from sklearn.model_selection import train_test_split\n",
    "\n",
    "X_train, X_test, y_train, y_test = train_test_split(helados[[\"female\",\"puzzle\",\"video\"]], helados[\"ice_cream\"], test_size=0.25, random_state=42)\n",
    "\n",
    "clf = tree.DecisionTreeClassifier()\n",
    "clf.fit(X_train,y_train)\n",
    "\n",
    "pred = clf.predict(X_test)\n",
    "accuracy_score(y_test, pred )"
   ]
  },
  {
   "cell_type": "markdown",
   "id": "ae47c17e",
   "metadata": {},
   "source": [
    "Esto lo vemos también haciendo cross validation. "
   ]
  },
  {
   "cell_type": "code",
   "execution_count": 3,
   "id": "4fa0eae7",
   "metadata": {},
   "outputs": [
    {
     "name": "stdout",
     "output_type": "stream",
     "text": [
      "[0.58208955 0.53731343 0.40909091]\n"
     ]
    }
   ],
   "source": [
    "from sklearn.model_selection import cross_val_score\n",
    "\n",
    "clf_pvf = tree.DecisionTreeClassifier()\n",
    "clf_pvf.fit(helados[['female','video','puzzle']], helados['ice_cream'])\n",
    "\n",
    "print(cross_val_score(clf_pvf, helados[['female','video','puzzle']], helados['ice_cream'], cv=3, scoring='accuracy'))\n"
   ]
  },
  {
   "cell_type": "markdown",
   "id": "94de088d",
   "metadata": {},
   "source": [
    "**Probabilidad de pertenecer a una clase**. Sklearn provee de un método que determina la probabilidad de pertenecer a una clase. Mira esté método, y mira como se compara con las predicciones abajo. ¿Qué hace el árbol cuando la probabilidad es 50-50?"
   ]
  },
  {
   "cell_type": "code",
   "execution_count": 9,
   "id": "f2183383",
   "metadata": {},
   "outputs": [
    {
     "data": {
      "text/plain": [
       "array([[0.        , 1.        ],\n",
       "       [1.        , 0.        ],\n",
       "       [0.        , 1.        ],\n",
       "       [0.5       , 0.5       ],\n",
       "       [0.        , 1.        ],\n",
       "       [0.5       , 0.5       ],\n",
       "       [1.        , 0.        ],\n",
       "       [0.5       , 0.5       ],\n",
       "       [1.        , 0.        ],\n",
       "       [1.        , 0.        ],\n",
       "       [0.        , 1.        ],\n",
       "       [0.        , 1.        ],\n",
       "       [0.        , 1.        ],\n",
       "       [1.        , 0.        ],\n",
       "       [0.66666667, 0.33333333],\n",
       "       [0.        , 1.        ],\n",
       "       [0.        , 1.        ],\n",
       "       [0.66666667, 0.33333333],\n",
       "       [0.5       , 0.5       ],\n",
       "       [1.        , 0.        ],\n",
       "       [1.        , 0.        ],\n",
       "       [1.        , 0.        ],\n",
       "       [1.        , 0.        ],\n",
       "       [0.5       , 0.5       ],\n",
       "       [1.        , 0.        ],\n",
       "       [1.        , 0.        ],\n",
       "       [1.        , 0.        ],\n",
       "       [0.        , 1.        ],\n",
       "       [0.        , 1.        ],\n",
       "       [0.66666667, 0.33333333],\n",
       "       [0.        , 1.        ],\n",
       "       [0.        , 1.        ],\n",
       "       [1.        , 0.        ],\n",
       "       [1.        , 0.        ],\n",
       "       [0.5       , 0.5       ],\n",
       "       [1.        , 0.        ],\n",
       "       [1.        , 0.        ],\n",
       "       [0.        , 1.        ],\n",
       "       [1.        , 0.        ],\n",
       "       [1.        , 0.        ],\n",
       "       [1.        , 0.        ],\n",
       "       [1.        , 0.        ],\n",
       "       [0.        , 1.        ],\n",
       "       [1.        , 0.        ],\n",
       "       [0.        , 1.        ],\n",
       "       [0.        , 1.        ],\n",
       "       [0.        , 1.        ],\n",
       "       [0.        , 1.        ],\n",
       "       [0.5       , 0.5       ],\n",
       "       [1.        , 0.        ]])"
      ]
     },
     "execution_count": 9,
     "metadata": {},
     "output_type": "execute_result"
    }
   ],
   "source": [
    "clf_proba = tree.DecisionTreeClassifier()\n",
    "clf_proba.fit(X_train,y_train)\n",
    "\n",
    "pred_proba = clf.predict_proba(X_test)\n",
    "pred_proba"
   ]
  },
  {
   "cell_type": "code",
   "execution_count": 10,
   "id": "fad16556",
   "metadata": {},
   "outputs": [
    {
     "name": "stdout",
     "output_type": "stream",
     "text": [
      "1\n",
      "[0. 1.]\n",
      "0\n",
      "[1. 0.]\n",
      "1\n",
      "[0. 1.]\n",
      "0\n",
      "[0.5 0.5]\n",
      "1\n",
      "[0. 1.]\n",
      "0\n",
      "[0.5 0.5]\n",
      "0\n",
      "[1. 0.]\n",
      "0\n",
      "[0.5 0.5]\n",
      "0\n",
      "[1. 0.]\n",
      "0\n",
      "[1. 0.]\n",
      "1\n",
      "[0. 1.]\n",
      "1\n",
      "[0. 1.]\n",
      "1\n",
      "[0. 1.]\n",
      "0\n",
      "[1. 0.]\n",
      "0\n",
      "[0.66666667 0.33333333]\n",
      "1\n",
      "[0. 1.]\n",
      "1\n",
      "[0. 1.]\n",
      "0\n",
      "[0.66666667 0.33333333]\n",
      "0\n",
      "[0.5 0.5]\n",
      "0\n",
      "[1. 0.]\n",
      "0\n",
      "[1. 0.]\n",
      "0\n",
      "[1. 0.]\n",
      "0\n",
      "[1. 0.]\n",
      "0\n",
      "[0.5 0.5]\n",
      "0\n",
      "[1. 0.]\n",
      "0\n",
      "[1. 0.]\n",
      "0\n",
      "[1. 0.]\n",
      "1\n",
      "[0. 1.]\n",
      "1\n",
      "[0. 1.]\n",
      "0\n",
      "[0.66666667 0.33333333]\n",
      "1\n",
      "[0. 1.]\n",
      "1\n",
      "[0. 1.]\n",
      "0\n",
      "[1. 0.]\n",
      "0\n",
      "[1. 0.]\n",
      "0\n",
      "[0.5 0.5]\n",
      "0\n",
      "[1. 0.]\n",
      "0\n",
      "[1. 0.]\n",
      "1\n",
      "[0. 1.]\n",
      "0\n",
      "[1. 0.]\n",
      "0\n",
      "[1. 0.]\n",
      "0\n",
      "[1. 0.]\n",
      "0\n",
      "[1. 0.]\n",
      "1\n",
      "[0. 1.]\n",
      "0\n",
      "[1. 0.]\n",
      "1\n",
      "[0. 1.]\n",
      "1\n",
      "[0. 1.]\n",
      "1\n",
      "[0. 1.]\n",
      "1\n",
      "[0. 1.]\n",
      "0\n",
      "[0.5 0.5]\n",
      "0\n",
      "[1. 0.]\n"
     ]
    }
   ],
   "source": [
    "for i in range(0,len(pred)):\n",
    "    print(pred[i])\n",
    "    print(pred_proba[i])"
   ]
  },
  {
   "cell_type": "markdown",
   "id": "00249634",
   "metadata": {},
   "source": [
    "Lo último que mostramos es sobre imprimir el árbol, primero en texto y después en imágenes. "
   ]
  },
  {
   "cell_type": "code",
   "execution_count": 7,
   "id": "dc8573a8",
   "metadata": {},
   "outputs": [
    {
     "data": {
      "text/plain": [
       "[Text(135.69936179577465, 211.7178947368421, 'X[1] <= 35.5\\ngini = 0.499\\nsamples = 200\\nvalue = [105, 95]'),\n",
       " Text(63.65915492957746, 200.2736842105263, 'X[2] <= 31.5\\ngini = 0.153\\nsamples = 12\\nvalue = [11, 1]'),\n",
       " Text(58.943661971830984, 188.82947368421054, 'X[2] <= 28.5\\ngini = 0.5\\nsamples = 2\\nvalue = [1, 1]'),\n",
       " Text(54.22816901408451, 177.38526315789474, 'gini = 0.0\\nsamples = 1\\nvalue = [1, 0]'),\n",
       " Text(63.65915492957746, 177.38526315789474, 'gini = 0.0\\nsamples = 1\\nvalue = [0, 1]'),\n",
       " Text(68.37464788732395, 188.82947368421054, 'gini = 0.0\\nsamples = 10\\nvalue = [10, 0]'),\n",
       " Text(207.73956866197182, 200.2736842105263, 'X[1] <= 58.5\\ngini = 0.5\\nsamples = 188\\nvalue = [94, 94]'),\n",
       " Text(144.33829225352113, 188.82947368421054, 'X[0] <= 0.5\\ngini = 0.493\\nsamples = 140\\nvalue = [62, 78]'),\n",
       " Text(73.09014084507042, 177.38526315789474, 'X[2] <= 53.5\\ngini = 0.474\\nsamples = 57\\nvalue = [22, 35]'),\n",
       " Text(49.51267605633803, 165.94105263157894, 'X[2] <= 49.0\\ngini = 0.401\\nsamples = 36\\nvalue = [10, 26]'),\n",
       " Text(44.797183098591546, 154.49684210526317, 'X[2] <= 46.5\\ngini = 0.48\\nsamples = 25\\nvalue = [10, 15]'),\n",
       " Text(40.08169014084507, 143.05263157894737, 'X[2] <= 43.5\\ngini = 0.469\\nsamples = 24\\nvalue = [9, 15]'),\n",
       " Text(18.861971830985915, 131.60842105263157, 'X[1] <= 44.5\\ngini = 0.5\\nsamples = 14\\nvalue = [7, 7]'),\n",
       " Text(9.430985915492958, 120.16421052631578, 'X[2] <= 28.5\\ngini = 0.408\\nsamples = 7\\nvalue = [2, 5]'),\n",
       " Text(4.715492957746479, 108.72, 'gini = 0.0\\nsamples = 1\\nvalue = [1, 0]'),\n",
       " Text(14.146478873239436, 108.72, 'X[1] <= 37.5\\ngini = 0.278\\nsamples = 6\\nvalue = [1, 5]'),\n",
       " Text(9.430985915492958, 97.27578947368421, 'gini = 0.5\\nsamples = 2\\nvalue = [1, 1]'),\n",
       " Text(18.861971830985915, 97.27578947368421, 'gini = 0.0\\nsamples = 4\\nvalue = [0, 4]'),\n",
       " Text(28.292957746478873, 120.16421052631578, 'X[2] <= 28.5\\ngini = 0.408\\nsamples = 7\\nvalue = [5, 2]'),\n",
       " Text(23.577464788732392, 108.72, 'gini = 0.0\\nsamples = 1\\nvalue = [0, 1]'),\n",
       " Text(33.00845070422535, 108.72, 'X[1] <= 56.5\\ngini = 0.278\\nsamples = 6\\nvalue = [5, 1]'),\n",
       " Text(28.292957746478873, 97.27578947368421, 'gini = 0.0\\nsamples = 4\\nvalue = [4, 0]'),\n",
       " Text(37.72394366197183, 97.27578947368421, 'X[2] <= 36.0\\ngini = 0.5\\nsamples = 2\\nvalue = [1, 1]'),\n",
       " Text(33.00845070422535, 85.83157894736843, 'gini = 0.0\\nsamples = 1\\nvalue = [1, 0]'),\n",
       " Text(42.43943661971831, 85.83157894736843, 'gini = 0.0\\nsamples = 1\\nvalue = [0, 1]'),\n",
       " Text(61.30140845070422, 131.60842105263157, 'X[1] <= 55.5\\ngini = 0.32\\nsamples = 10\\nvalue = [2, 8]'),\n",
       " Text(56.585915492957746, 120.16421052631578, 'X[1] <= 54.0\\ngini = 0.375\\nsamples = 8\\nvalue = [2, 6]'),\n",
       " Text(51.87042253521127, 108.72, 'X[1] <= 43.0\\ngini = 0.245\\nsamples = 7\\nvalue = [1, 6]'),\n",
       " Text(47.154929577464785, 97.27578947368421, 'gini = 0.444\\nsamples = 3\\nvalue = [1, 2]'),\n",
       " Text(56.585915492957746, 97.27578947368421, 'gini = 0.0\\nsamples = 4\\nvalue = [0, 4]'),\n",
       " Text(61.30140845070422, 108.72, 'gini = 0.0\\nsamples = 1\\nvalue = [1, 0]'),\n",
       " Text(66.0169014084507, 120.16421052631578, 'gini = 0.0\\nsamples = 2\\nvalue = [0, 2]'),\n",
       " Text(49.51267605633803, 143.05263157894737, 'gini = 0.0\\nsamples = 1\\nvalue = [1, 0]'),\n",
       " Text(54.22816901408451, 154.49684210526317, 'gini = 0.0\\nsamples = 11\\nvalue = [0, 11]'),\n",
       " Text(96.66760563380282, 165.94105263157894, 'X[1] <= 51.5\\ngini = 0.49\\nsamples = 21\\nvalue = [12, 9]'),\n",
       " Text(91.95211267605633, 154.49684210526317, 'gini = 0.0\\nsamples = 7\\nvalue = [7, 0]'),\n",
       " Text(101.3830985915493, 154.49684210526317, 'X[2] <= 63.5\\ngini = 0.459\\nsamples = 14\\nvalue = [5, 9]'),\n",
       " Text(96.66760563380282, 143.05263157894737, 'X[1] <= 56.0\\ngini = 0.486\\nsamples = 12\\nvalue = [5, 7]'),\n",
       " Text(84.87887323943661, 131.60842105263157, 'X[2] <= 58.5\\ngini = 0.5\\nsamples = 8\\nvalue = [4, 4]'),\n",
       " Text(75.44788732394366, 120.16421052631578, 'X[1] <= 54.0\\ngini = 0.375\\nsamples = 4\\nvalue = [3, 1]'),\n",
       " Text(70.73239436619718, 108.72, 'gini = 0.0\\nsamples = 2\\nvalue = [2, 0]'),\n",
       " Text(80.16338028169014, 108.72, 'gini = 0.5\\nsamples = 2\\nvalue = [1, 1]'),\n",
       " Text(94.30985915492957, 120.16421052631578, 'X[1] <= 54.0\\ngini = 0.375\\nsamples = 4\\nvalue = [1, 3]'),\n",
       " Text(89.59436619718309, 108.72, 'gini = 0.0\\nsamples = 3\\nvalue = [0, 3]'),\n",
       " Text(99.02535211267606, 108.72, 'gini = 0.0\\nsamples = 1\\nvalue = [1, 0]'),\n",
       " Text(108.45633802816901, 131.60842105263157, 'X[2] <= 58.5\\ngini = 0.375\\nsamples = 4\\nvalue = [1, 3]'),\n",
       " Text(103.74084507042254, 120.16421052631578, 'gini = 0.0\\nsamples = 2\\nvalue = [0, 2]'),\n",
       " Text(113.17183098591549, 120.16421052631578, 'gini = 0.5\\nsamples = 2\\nvalue = [1, 1]'),\n",
       " Text(106.09859154929578, 143.05263157894737, 'gini = 0.0\\nsamples = 2\\nvalue = [0, 2]'),\n",
       " Text(215.58644366197183, 177.38526315789474, 'X[1] <= 55.5\\ngini = 0.499\\nsamples = 83\\nvalue = [40, 43]'),\n",
       " Text(188.325, 165.94105263157894, 'X[2] <= 68.5\\ngini = 0.494\\nsamples = 72\\nvalue = [32, 40]'),\n",
       " Text(183.6095070422535, 154.49684210526317, 'X[2] <= 63.5\\ngini = 0.496\\nsamples = 70\\nvalue = [32, 38]'),\n",
       " Text(166.81056338028168, 143.05263157894737, 'X[2] <= 54.0\\ngini = 0.488\\nsamples = 64\\nvalue = [27, 37]'),\n",
       " Text(147.35915492957747, 131.60842105263157, 'X[1] <= 52.0\\ngini = 0.5\\nsamples = 40\\nvalue = [20, 20]'),\n",
       " Text(122.60281690140845, 120.16421052631578, 'X[2] <= 34.5\\ngini = 0.496\\nsamples = 33\\nvalue = [18, 15]'),\n",
       " Text(117.88732394366197, 108.72, 'gini = 0.0\\nsamples = 2\\nvalue = [2, 0]'),\n",
       " Text(127.31830985915492, 108.72, 'X[1] <= 37.5\\ngini = 0.499\\nsamples = 31\\nvalue = [16, 15]'),\n",
       " Text(122.60281690140845, 97.27578947368421, 'gini = 0.0\\nsamples = 1\\nvalue = [0, 1]'),\n",
       " Text(132.0338028169014, 97.27578947368421, 'X[2] <= 51.5\\ngini = 0.498\\nsamples = 30\\nvalue = [16, 14]'),\n",
       " Text(127.31830985915492, 85.83157894736843, 'X[1] <= 41.0\\ngini = 0.499\\nsamples = 29\\nvalue = [15, 14]'),\n",
       " Text(110.81408450704225, 74.38736842105263, 'X[2] <= 46.0\\ngini = 0.444\\nsamples = 6\\nvalue = [4, 2]'),\n",
       " Text(106.09859154929578, 62.943157894736856, 'gini = 0.0\\nsamples = 2\\nvalue = [2, 0]'),\n",
       " Text(115.52957746478873, 62.943157894736856, 'gini = 0.5\\nsamples = 4\\nvalue = [2, 2]'),\n",
       " Text(143.8225352112676, 74.38736842105263, 'X[2] <= 42.0\\ngini = 0.499\\nsamples = 23\\nvalue = [11, 12]'),\n",
       " Text(124.96056338028168, 62.943157894736856, 'X[1] <= 45.5\\ngini = 0.444\\nsamples = 9\\nvalue = [3, 6]'),\n",
       " Text(115.52957746478873, 51.49894736842106, 'X[1] <= 43.0\\ngini = 0.278\\nsamples = 6\\nvalue = [1, 5]'),\n",
       " Text(110.81408450704225, 40.05473684210526, 'X[2] <= 38.5\\ngini = 0.32\\nsamples = 5\\nvalue = [1, 4]'),\n",
       " Text(106.09859154929578, 28.610526315789485, 'gini = 0.0\\nsamples = 1\\nvalue = [0, 1]'),\n",
       " Text(115.52957746478873, 28.610526315789485, 'gini = 0.375\\nsamples = 4\\nvalue = [1, 3]'),\n",
       " Text(120.2450704225352, 40.05473684210526, 'gini = 0.0\\nsamples = 1\\nvalue = [0, 1]'),\n",
       " Text(134.39154929577464, 51.49894736842106, 'X[1] <= 48.5\\ngini = 0.444\\nsamples = 3\\nvalue = [2, 1]'),\n",
       " Text(129.67605633802816, 40.05473684210526, 'gini = 0.0\\nsamples = 1\\nvalue = [1, 0]'),\n",
       " Text(139.10704225352112, 40.05473684210526, 'gini = 0.5\\nsamples = 2\\nvalue = [1, 1]'),\n",
       " Text(162.68450704225353, 62.943157894736856, 'X[1] <= 47.5\\ngini = 0.49\\nsamples = 14\\nvalue = [8, 6]'),\n",
       " Text(153.25352112676057, 51.49894736842106, 'X[1] <= 43.0\\ngini = 0.408\\nsamples = 7\\nvalue = [5, 2]'),\n",
       " Text(148.53802816901407, 40.05473684210526, 'gini = 0.0\\nsamples = 1\\nvalue = [1, 0]'),\n",
       " Text(157.96901408450705, 40.05473684210526, 'X[2] <= 47.0\\ngini = 0.444\\nsamples = 6\\nvalue = [4, 2]'),\n",
       " Text(153.25352112676057, 28.610526315789485, 'gini = 0.5\\nsamples = 2\\nvalue = [1, 1]'),\n",
       " Text(162.68450704225353, 28.610526315789485, 'X[1] <= 45.5\\ngini = 0.375\\nsamples = 4\\nvalue = [3, 1]'),\n",
       " Text(157.96901408450705, 17.166315789473686, 'X[2] <= 49.5\\ngini = 0.444\\nsamples = 3\\nvalue = [2, 1]'),\n",
       " Text(153.25352112676057, 5.722105263157886, 'gini = 0.0\\nsamples = 1\\nvalue = [1, 0]'),\n",
       " Text(162.68450704225353, 5.722105263157886, 'gini = 0.5\\nsamples = 2\\nvalue = [1, 1]'),\n",
       " Text(167.4, 17.166315789473686, 'gini = 0.0\\nsamples = 1\\nvalue = [1, 0]'),\n",
       " Text(172.11549295774648, 51.49894736842106, 'X[2] <= 44.5\\ngini = 0.49\\nsamples = 7\\nvalue = [3, 4]'),\n",
       " Text(167.4, 40.05473684210526, 'gini = 0.0\\nsamples = 1\\nvalue = [1, 0]'),\n",
       " Text(176.83098591549296, 40.05473684210526, 'X[2] <= 48.5\\ngini = 0.444\\nsamples = 6\\nvalue = [2, 4]'),\n",
       " Text(172.11549295774648, 28.610526315789485, 'gini = 0.0\\nsamples = 1\\nvalue = [0, 1]'),\n",
       " Text(181.54647887323944, 28.610526315789485, 'gini = 0.48\\nsamples = 5\\nvalue = [2, 3]'),\n",
       " Text(136.7492957746479, 85.83157894736843, 'gini = 0.0\\nsamples = 1\\nvalue = [1, 0]'),\n",
       " Text(172.11549295774648, 120.16421052631578, 'X[2] <= 48.5\\ngini = 0.408\\nsamples = 7\\nvalue = [2, 5]'),\n",
       " Text(167.4, 108.72, 'X[2] <= 43.5\\ngini = 0.48\\nsamples = 5\\nvalue = [2, 3]'),\n",
       " Text(162.68450704225353, 97.27578947368421, 'X[2] <= 39.0\\ngini = 0.375\\nsamples = 4\\nvalue = [1, 3]'),\n",
       " Text(157.96901408450705, 85.83157894736843, 'X[1] <= 54.0\\ngini = 0.5\\nsamples = 2\\nvalue = [1, 1]'),\n",
       " Text(153.25352112676057, 74.38736842105263, 'gini = 0.0\\nsamples = 1\\nvalue = [1, 0]'),\n",
       " Text(162.68450704225353, 74.38736842105263, 'gini = 0.0\\nsamples = 1\\nvalue = [0, 1]'),\n",
       " Text(167.4, 85.83157894736843, 'gini = 0.0\\nsamples = 2\\nvalue = [0, 2]'),\n",
       " Text(172.11549295774648, 97.27578947368421, 'gini = 0.0\\nsamples = 1\\nvalue = [1, 0]'),\n",
       " Text(176.83098591549296, 108.72, 'gini = 0.0\\nsamples = 2\\nvalue = [0, 2]'),\n",
       " Text(186.2619718309859, 131.60842105263157, 'X[1] <= 47.5\\ngini = 0.413\\nsamples = 24\\nvalue = [7, 17]'),\n",
       " Text(181.54647887323944, 120.16421052631578, 'gini = 0.0\\nsamples = 8\\nvalue = [0, 8]'),\n",
       " Text(190.9774647887324, 120.16421052631578, 'X[1] <= 49.0\\ngini = 0.492\\nsamples = 16\\nvalue = [7, 9]'),\n",
       " Text(186.2619718309859, 108.72, 'gini = 0.0\\nsamples = 1\\nvalue = [1, 0]'),\n",
       " Text(195.69295774647887, 108.72, 'X[1] <= 52.0\\ngini = 0.48\\nsamples = 15\\nvalue = [6, 9]'),\n",
       " Text(186.2619718309859, 97.27578947368421, 'X[2] <= 57.0\\ngini = 0.408\\nsamples = 7\\nvalue = [2, 5]'),\n",
       " Text(181.54647887323944, 85.83157894736843, 'gini = 0.48\\nsamples = 5\\nvalue = [2, 3]'),\n",
       " Text(190.9774647887324, 85.83157894736843, 'gini = 0.0\\nsamples = 2\\nvalue = [0, 2]'),\n",
       " Text(205.12394366197182, 97.27578947368421, 'X[1] <= 53.5\\ngini = 0.5\\nsamples = 8\\nvalue = [4, 4]'),\n",
       " Text(200.40845070422534, 85.83157894736843, 'gini = 0.444\\nsamples = 3\\nvalue = [2, 1]'),\n",
       " Text(209.8394366197183, 85.83157894736843, 'X[1] <= 54.5\\ngini = 0.48\\nsamples = 5\\nvalue = [2, 3]'),\n",
       " Text(200.40845070422534, 74.38736842105263, 'X[2] <= 58.5\\ngini = 0.5\\nsamples = 2\\nvalue = [1, 1]'),\n",
       " Text(195.69295774647887, 62.943157894736856, 'gini = 0.0\\nsamples = 1\\nvalue = [1, 0]'),\n",
       " Text(205.12394366197182, 62.943157894736856, 'gini = 0.0\\nsamples = 1\\nvalue = [0, 1]'),\n",
       " Text(219.27042253521125, 74.38736842105263, 'X[2] <= 58.5\\ngini = 0.444\\nsamples = 3\\nvalue = [1, 2]'),\n",
       " Text(214.55492957746478, 62.943157894736856, 'gini = 0.0\\nsamples = 1\\nvalue = [0, 1]'),\n",
       " Text(223.98591549295773, 62.943157894736856, 'gini = 0.5\\nsamples = 2\\nvalue = [1, 1]'),\n",
       " Text(200.40845070422534, 143.05263157894737, 'X[1] <= 49.5\\ngini = 0.278\\nsamples = 6\\nvalue = [5, 1]'),\n",
       " Text(195.69295774647887, 131.60842105263157, 'gini = 0.0\\nsamples = 2\\nvalue = [2, 0]'),\n",
       " Text(205.12394366197182, 131.60842105263157, 'X[1] <= 53.5\\ngini = 0.375\\nsamples = 4\\nvalue = [3, 1]'),\n",
       " Text(200.40845070422534, 120.16421052631578, 'gini = 0.5\\nsamples = 2\\nvalue = [1, 1]'),\n",
       " Text(209.8394366197183, 120.16421052631578, 'gini = 0.0\\nsamples = 2\\nvalue = [2, 0]'),\n",
       " Text(193.04049295774647, 154.49684210526317, 'gini = 0.0\\nsamples = 2\\nvalue = [0, 2]'),\n",
       " Text(242.84788732394367, 165.94105263157894, 'X[2] <= 68.5\\ngini = 0.397\\nsamples = 11\\nvalue = [8, 3]'),\n",
       " Text(238.1323943661972, 154.49684210526317, 'X[2] <= 58.5\\ngini = 0.444\\nsamples = 9\\nvalue = [6, 3]'),\n",
       " Text(228.70140845070424, 143.05263157894737, 'X[2] <= 48.5\\ngini = 0.32\\nsamples = 5\\nvalue = [4, 1]'),\n",
       " Text(223.98591549295773, 131.60842105263157, 'X[2] <= 41.0\\ngini = 0.5\\nsamples = 2\\nvalue = [1, 1]'),\n",
       " Text(219.27042253521125, 120.16421052631578, 'gini = 0.0\\nsamples = 1\\nvalue = [1, 0]'),\n",
       " Text(228.70140845070424, 120.16421052631578, 'gini = 0.0\\nsamples = 1\\nvalue = [0, 1]'),\n",
       " Text(233.4169014084507, 131.60842105263157, 'gini = 0.0\\nsamples = 3\\nvalue = [3, 0]'),\n",
       " Text(247.56338028169014, 143.05263157894737, 'X[2] <= 63.5\\ngini = 0.5\\nsamples = 4\\nvalue = [2, 2]'),\n",
       " Text(242.84788732394367, 131.60842105263157, 'gini = 0.5\\nsamples = 2\\nvalue = [1, 1]'),\n",
       " Text(252.27887323943662, 131.60842105263157, 'gini = 0.5\\nsamples = 2\\nvalue = [1, 1]'),\n",
       " Text(247.56338028169014, 154.49684210526317, 'gini = 0.0\\nsamples = 2\\nvalue = [2, 0]'),\n",
       " Text(271.14084507042253, 188.82947368421054, 'X[1] <= 70.5\\ngini = 0.444\\nsamples = 48\\nvalue = [32, 16]'),\n",
       " Text(266.4253521126761, 177.38526315789474, 'X[2] <= 68.5\\ngini = 0.411\\nsamples = 45\\nvalue = [32, 13]'),\n",
       " Text(261.7098591549296, 165.94105263157894, 'X[2] <= 38.5\\ngini = 0.427\\nsamples = 42\\nvalue = [29, 13]'),\n",
       " Text(256.99436619718307, 154.49684210526317, 'gini = 0.0\\nsamples = 2\\nvalue = [2, 0]'),\n",
       " Text(266.4253521126761, 154.49684210526317, 'X[2] <= 42.5\\ngini = 0.439\\nsamples = 40\\nvalue = [27, 13]'),\n",
       " Text(261.7098591549296, 143.05263157894737, 'gini = 0.0\\nsamples = 1\\nvalue = [0, 1]'),\n",
       " Text(271.14084507042253, 143.05263157894737, 'X[2] <= 48.5\\ngini = 0.426\\nsamples = 39\\nvalue = [27, 12]'),\n",
       " Text(266.4253521126761, 131.60842105263157, 'gini = 0.0\\nsamples = 3\\nvalue = [3, 0]'),\n",
       " Text(275.85633802816903, 131.60842105263157, 'X[2] <= 58.5\\ngini = 0.444\\nsamples = 36\\nvalue = [24, 12]'),\n",
       " Text(252.27887323943662, 120.16421052631578, 'X[1] <= 60.0\\ngini = 0.496\\nsamples = 11\\nvalue = [6, 5]'),\n",
       " Text(247.56338028169014, 108.72, 'gini = 0.0\\nsamples = 1\\nvalue = [1, 0]'),\n",
       " Text(256.99436619718307, 108.72, 'X[1] <= 64.5\\ngini = 0.5\\nsamples = 10\\nvalue = [5, 5]'),\n",
       " Text(245.2056338028169, 97.27578947368421, 'X[0] <= 0.5\\ngini = 0.49\\nsamples = 7\\nvalue = [4, 3]'),\n",
       " Text(235.77464788732394, 85.83157894736843, 'X[2] <= 53.5\\ngini = 0.444\\nsamples = 3\\nvalue = [2, 1]'),\n",
       " Text(231.05915492957746, 74.38736842105263, 'gini = 0.0\\nsamples = 1\\nvalue = [0, 1]'),\n",
       " Text(240.4901408450704, 74.38736842105263, 'gini = 0.0\\nsamples = 2\\nvalue = [2, 0]'),\n",
       " Text(254.63661971830984, 85.83157894736843, 'X[1] <= 62.0\\ngini = 0.5\\nsamples = 4\\nvalue = [2, 2]'),\n",
       " Text(249.92112676056337, 74.38736842105263, 'X[2] <= 53.5\\ngini = 0.444\\nsamples = 3\\nvalue = [1, 2]'),\n",
       " Text(245.2056338028169, 62.943157894736856, 'gini = 0.5\\nsamples = 2\\nvalue = [1, 1]'),\n",
       " Text(254.63661971830984, 62.943157894736856, 'gini = 0.0\\nsamples = 1\\nvalue = [0, 1]'),\n",
       " Text(259.3521126760563, 74.38736842105263, 'gini = 0.0\\nsamples = 1\\nvalue = [1, 0]'),\n",
       " Text(268.7830985915493, 97.27578947368421, 'X[0] <= 0.5\\ngini = 0.444\\nsamples = 3\\nvalue = [1, 2]'),\n",
       " Text(264.0676056338028, 85.83157894736843, 'gini = 0.0\\nsamples = 1\\nvalue = [0, 1]'),\n",
       " Text(273.4985915492958, 85.83157894736843, 'gini = 0.5\\nsamples = 2\\nvalue = [1, 1]'),\n",
       " Text(299.4338028169014, 120.16421052631578, 'X[1] <= 62.0\\ngini = 0.403\\nsamples = 25\\nvalue = [18, 7]'),\n",
       " Text(282.92957746478874, 108.72, 'X[0] <= 0.5\\ngini = 0.219\\nsamples = 8\\nvalue = [7, 1]'),\n",
       " Text(278.21408450704223, 97.27578947368421, 'gini = 0.0\\nsamples = 4\\nvalue = [4, 0]'),\n",
       " Text(287.6450704225352, 97.27578947368421, 'X[2] <= 63.5\\ngini = 0.375\\nsamples = 4\\nvalue = [3, 1]'),\n",
       " Text(282.92957746478874, 85.83157894736843, 'gini = 0.444\\nsamples = 3\\nvalue = [2, 1]'),\n",
       " Text(292.3605633802817, 85.83157894736843, 'gini = 0.0\\nsamples = 1\\nvalue = [1, 0]'),\n",
       " Text(315.9380281690141, 108.72, 'X[1] <= 63.5\\ngini = 0.457\\nsamples = 17\\nvalue = [11, 6]'),\n",
       " Text(306.50704225352115, 97.27578947368421, 'X[2] <= 63.5\\ngini = 0.5\\nsamples = 8\\nvalue = [4, 4]'),\n",
       " Text(301.79154929577464, 85.83157894736843, 'X[0] <= 0.5\\ngini = 0.375\\nsamples = 4\\nvalue = [1, 3]'),\n",
       " Text(297.07605633802814, 74.38736842105263, 'gini = 0.0\\nsamples = 2\\nvalue = [0, 2]'),\n",
       " Text(306.50704225352115, 74.38736842105263, 'gini = 0.5\\nsamples = 2\\nvalue = [1, 1]'),\n",
       " Text(311.2225352112676, 85.83157894736843, 'gini = 0.375\\nsamples = 4\\nvalue = [3, 1]'),\n",
       " Text(325.36901408450706, 97.27578947368421, 'X[0] <= 0.5\\ngini = 0.346\\nsamples = 9\\nvalue = [7, 2]'),\n",
       " Text(320.65352112676055, 85.83157894736843, 'X[1] <= 65.0\\ngini = 0.48\\nsamples = 5\\nvalue = [3, 2]'),\n",
       " Text(315.9380281690141, 74.38736842105263, 'gini = 0.0\\nsamples = 1\\nvalue = [1, 0]'),\n",
       " Text(325.36901408450706, 74.38736842105263, 'X[1] <= 67.5\\ngini = 0.5\\nsamples = 4\\nvalue = [2, 2]'),\n",
       " Text(320.65352112676055, 62.943157894736856, 'gini = 0.5\\nsamples = 2\\nvalue = [1, 1]'),\n",
       " Text(330.0845070422535, 62.943157894736856, 'gini = 0.5\\nsamples = 2\\nvalue = [1, 1]'),\n",
       " Text(330.0845070422535, 85.83157894736843, 'gini = 0.0\\nsamples = 4\\nvalue = [4, 0]'),\n",
       " Text(271.14084507042253, 165.94105263157894, 'gini = 0.0\\nsamples = 3\\nvalue = [3, 0]'),\n",
       " Text(275.85633802816903, 177.38526315789474, 'gini = 0.0\\nsamples = 3\\nvalue = [0, 3]')]"
      ]
     },
     "execution_count": 7,
     "metadata": {},
     "output_type": "execute_result"
    },
    {
     "data": {
      "image/png": "[encoded data removed]",
      "text/plain": [
       "<Figure size 432x288 with 1 Axes>"
      ]
     },
     "metadata": {
      "needs_background": "light"
     },
     "output_type": "display_data"
    }
   ],
   "source": [
    "\n",
    "tree.plot_tree(clf_pvf) \n"
   ]
  }
 ],
 "metadata": {
  "kernelspec": {
   "display_name": "Python 3 (ipykernel)",
   "language": "python",
   "name": "python3"
  },
  "language_info": {
   "codemirror_mode": {
    "name": "ipython",
    "version": 3
   },
   "file_extension": ".py",
   "mimetype": "text/x-python",
   "name": "python",
   "nbconvert_exporter": "python",
   "pygments_lexer": "ipython3",
   "version": "3.9.4"
  }
 },
 "nbformat": 4,
 "nbformat_minor": 5
}
