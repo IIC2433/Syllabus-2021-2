{
 "cells": [
  {
   "cell_type": "markdown",
   "id": "01780c73",
   "metadata": {},
   "source": [
    "## El dataset de LaLonde\n",
    "\n",
    "Estos datos se han vuelto famosos para ejemplificar y entrenar lo difícil que puede ser entender los efectos. Provienen de un artículo escrito por Robert LaLonde en 1986, y que trata de entender lso efectos de un programa de entrenamiento laboral, un par de años después que ese entrenamiento concluyera. \n",
    "\n",
    "El dataset son solo hombres. Tiene una columna **treat**, por _treatment_, que marca con un 1 aquellas personas que si completaron el programa. **age** es la edad en años, **educ** son los años de educación de la persona, **black** e **hispan** se refiere a la raza, **married** al estado civil, **nodegree** asigna un 1 a quienes no tienen un grado universitario, **re74** y **re75** son los salarios reales de las personas en los años 1974 y 1975 (antes del programa), y **re78** son los salarios el año 1978, después de que terminara el programa. \n"
   ]
  },
  {
   "cell_type": "code",
   "execution_count": 3,
   "id": "88976dc2",
   "metadata": {},
   "outputs": [
    {
     "data": {
      "text/html": [
       "<div>\n",
       "<style scoped>\n",
       "    .dataframe tbody tr th:only-of-type {\n",
       "        vertical-align: middle;\n",
       "    }\n",
       "\n",
       "    .dataframe tbody tr th {\n",
       "        vertical-align: top;\n",
       "    }\n",
       "\n",
       "    .dataframe thead th {\n",
       "        text-align: right;\n",
       "    }\n",
       "</style>\n",
       "<table border=\"1\" class=\"dataframe\">\n",
       "  <thead>\n",
       "    <tr style=\"text-align: right;\">\n",
       "      <th></th>\n",
       "      <th>treat</th>\n",
       "      <th>age</th>\n",
       "      <th>educ</th>\n",
       "      <th>black</th>\n",
       "      <th>hispan</th>\n",
       "      <th>married</th>\n",
       "      <th>nodegree</th>\n",
       "      <th>re74</th>\n",
       "      <th>re75</th>\n",
       "      <th>re78</th>\n",
       "    </tr>\n",
       "    <tr>\n",
       "      <th>id</th>\n",
       "      <th></th>\n",
       "      <th></th>\n",
       "      <th></th>\n",
       "      <th></th>\n",
       "      <th></th>\n",
       "      <th></th>\n",
       "      <th></th>\n",
       "      <th></th>\n",
       "      <th></th>\n",
       "      <th></th>\n",
       "    </tr>\n",
       "  </thead>\n",
       "  <tbody>\n",
       "    <tr>\n",
       "      <th>NSW1</th>\n",
       "      <td>1</td>\n",
       "      <td>37</td>\n",
       "      <td>11</td>\n",
       "      <td>1</td>\n",
       "      <td>0</td>\n",
       "      <td>1</td>\n",
       "      <td>1</td>\n",
       "      <td>0.0</td>\n",
       "      <td>0.0</td>\n",
       "      <td>9930.0460</td>\n",
       "    </tr>\n",
       "    <tr>\n",
       "      <th>NSW2</th>\n",
       "      <td>1</td>\n",
       "      <td>22</td>\n",
       "      <td>9</td>\n",
       "      <td>0</td>\n",
       "      <td>1</td>\n",
       "      <td>0</td>\n",
       "      <td>1</td>\n",
       "      <td>0.0</td>\n",
       "      <td>0.0</td>\n",
       "      <td>3595.8940</td>\n",
       "    </tr>\n",
       "    <tr>\n",
       "      <th>NSW3</th>\n",
       "      <td>1</td>\n",
       "      <td>30</td>\n",
       "      <td>12</td>\n",
       "      <td>1</td>\n",
       "      <td>0</td>\n",
       "      <td>0</td>\n",
       "      <td>0</td>\n",
       "      <td>0.0</td>\n",
       "      <td>0.0</td>\n",
       "      <td>24909.4500</td>\n",
       "    </tr>\n",
       "    <tr>\n",
       "      <th>NSW4</th>\n",
       "      <td>1</td>\n",
       "      <td>27</td>\n",
       "      <td>11</td>\n",
       "      <td>1</td>\n",
       "      <td>0</td>\n",
       "      <td>0</td>\n",
       "      <td>1</td>\n",
       "      <td>0.0</td>\n",
       "      <td>0.0</td>\n",
       "      <td>7506.1460</td>\n",
       "    </tr>\n",
       "    <tr>\n",
       "      <th>NSW5</th>\n",
       "      <td>1</td>\n",
       "      <td>33</td>\n",
       "      <td>8</td>\n",
       "      <td>1</td>\n",
       "      <td>0</td>\n",
       "      <td>0</td>\n",
       "      <td>1</td>\n",
       "      <td>0.0</td>\n",
       "      <td>0.0</td>\n",
       "      <td>289.7899</td>\n",
       "    </tr>\n",
       "  </tbody>\n",
       "</table>\n",
       "</div>"
      ],
      "text/plain": [
       "      treat  age  educ  black  hispan  married  nodegree  re74  re75  \\\n",
       "id                                                                     \n",
       "NSW1      1   37    11      1       0        1         1   0.0   0.0   \n",
       "NSW2      1   22     9      0       1        0         1   0.0   0.0   \n",
       "NSW3      1   30    12      1       0        0         0   0.0   0.0   \n",
       "NSW4      1   27    11      1       0        0         1   0.0   0.0   \n",
       "NSW5      1   33     8      1       0        0         1   0.0   0.0   \n",
       "\n",
       "            re78  \n",
       "id                \n",
       "NSW1   9930.0460  \n",
       "NSW2   3595.8940  \n",
       "NSW3  24909.4500  \n",
       "NSW4   7506.1460  \n",
       "NSW5    289.7899  "
      ]
     },
     "execution_count": 3,
     "metadata": {},
     "output_type": "execute_result"
    }
   ],
   "source": [
    "import pandas as pd\n",
    "\n",
    "lalonde = pd.read_csv('lalonde.csv', index_col=0)\n",
    "lalonde.head()"
   ]
  },
  {
   "cell_type": "markdown",
   "id": "620d59d4",
   "metadata": {},
   "source": [
    "## Primer análisis: medias (average treatment effect), test t para ver si dos series vienen de la misma distribución. \n",
    "\n",
    "Veamos primero la idea más obvia que se nos puede ocurrir: si queremos ver que el programa funciona, veamos el salario promedio de la gente que recibió el programa y los que no? "
   ]
  },
  {
   "cell_type": "code",
   "execution_count": 10,
   "id": "ed8e47d4",
   "metadata": {},
   "outputs": [
    {
     "data": {
      "text/plain": [
       "treat\n",
       "0    6984.169742\n",
       "1    6349.143530\n",
       "Name: re78, dtype: float64"
      ]
     },
     "execution_count": 10,
     "metadata": {},
     "output_type": "execute_result"
    }
   ],
   "source": [
    "lalonde.groupby(\"treat\").mean()[\"re78\"]"
   ]
  },
  {
   "cell_type": "markdown",
   "id": "c792f5d2",
   "metadata": {},
   "source": [
    "!El grupo sin entrenamiento obtiene mayor salario! ¿Será que el programa en realida dhace mal? O, tal vez, esta diferencia podría ser simplemente por cómo se distribuyeron los grupos. Para ver si es estadísticamente significativa, vamos a hacer un test t. "
   ]
  },
  {
   "cell_type": "code",
   "execution_count": 67,
   "id": "bc4f2f4f",
   "metadata": {},
   "outputs": [
    {
     "data": {
      "text/plain": [
       "Ttest_indResult(statistic=0.9663522254463778, pvalue=0.3342496685909654)"
      ]
     },
     "execution_count": 67,
     "metadata": {},
     "output_type": "execute_result"
    }
   ],
   "source": [
    "from scipy.stats import ttest_ind\n",
    "\n",
    "lalonde_t0 = lalonde[lalonde[\"treat\"]==0]\n",
    "lalonde_t1 = lalonde[lalonde[\"treat\"]==1]\n",
    "\n",
    "ttest_ind(lalonde_t0[\"re78\"], lalonde_t1[\"re78\"])\n"
   ]
  },
  {
   "cell_type": "markdown",
   "id": "37b2f7a1",
   "metadata": {},
   "source": [
    "Lo primero que retorna la función es el estadístico t, y lo segundo es el valor de significancia. A un 33%, no podemos deducir que los salarios son significativamente distintos, y por lo tanto, tal vez deberíamos concluír en vez que en realidad no hay diferencia entre los que toman el programa y los que no. \n",
    "\n",
    "Esto sigue siendo extraño, y vamos a tratar de hacer algo mejor. Contemos cuantos individuos hay por grupo. "
   ]
  },
  {
   "cell_type": "code",
   "execution_count": 15,
   "id": "aeeb0cf0",
   "metadata": {},
   "outputs": [
    {
     "data": {
      "text/html": [
       "<div>\n",
       "<style scoped>\n",
       "    .dataframe tbody tr th:only-of-type {\n",
       "        vertical-align: middle;\n",
       "    }\n",
       "\n",
       "    .dataframe tbody tr th {\n",
       "        vertical-align: top;\n",
       "    }\n",
       "\n",
       "    .dataframe thead th {\n",
       "        text-align: right;\n",
       "    }\n",
       "</style>\n",
       "<table border=\"1\" class=\"dataframe\">\n",
       "  <thead>\n",
       "    <tr style=\"text-align: right;\">\n",
       "      <th></th>\n",
       "      <th>age</th>\n",
       "      <th>educ</th>\n",
       "      <th>black</th>\n",
       "      <th>hispan</th>\n",
       "      <th>married</th>\n",
       "      <th>nodegree</th>\n",
       "      <th>re74</th>\n",
       "      <th>re75</th>\n",
       "      <th>re78</th>\n",
       "    </tr>\n",
       "    <tr>\n",
       "      <th>treat</th>\n",
       "      <th></th>\n",
       "      <th></th>\n",
       "      <th></th>\n",
       "      <th></th>\n",
       "      <th></th>\n",
       "      <th></th>\n",
       "      <th></th>\n",
       "      <th></th>\n",
       "      <th></th>\n",
       "    </tr>\n",
       "  </thead>\n",
       "  <tbody>\n",
       "    <tr>\n",
       "      <th>0</th>\n",
       "      <td>429</td>\n",
       "      <td>429</td>\n",
       "      <td>429</td>\n",
       "      <td>429</td>\n",
       "      <td>429</td>\n",
       "      <td>429</td>\n",
       "      <td>429</td>\n",
       "      <td>429</td>\n",
       "      <td>429</td>\n",
       "    </tr>\n",
       "    <tr>\n",
       "      <th>1</th>\n",
       "      <td>185</td>\n",
       "      <td>185</td>\n",
       "      <td>185</td>\n",
       "      <td>185</td>\n",
       "      <td>185</td>\n",
       "      <td>185</td>\n",
       "      <td>185</td>\n",
       "      <td>185</td>\n",
       "      <td>185</td>\n",
       "    </tr>\n",
       "  </tbody>\n",
       "</table>\n",
       "</div>"
      ],
      "text/plain": [
       "       age  educ  black  hispan  married  nodegree  re74  re75  re78\n",
       "treat                                                               \n",
       "0      429   429    429     429      429       429   429   429   429\n",
       "1      185   185    185     185      185       185   185   185   185"
      ]
     },
     "execution_count": 15,
     "metadata": {},
     "output_type": "execute_result"
    }
   ],
   "source": [
    "lalonde.groupby(\"treat\").count()"
   ]
  },
  {
   "cell_type": "markdown",
   "id": "0bf70666",
   "metadata": {},
   "source": [
    "Ahora cuantos hay con salario = 0 (es decir, que no tenían trabajo). Vemos que son más de la mitad de los que si recibieron el _treatment_ (el programa de entrenamiento laboral). Además, si consideramos los salarios el 74 y el 75, el grupo con _treatment_ 1 parte desde un salario mucho más bajo. "
   ]
  },
  {
   "cell_type": "code",
   "execution_count": 14,
   "id": "07fefd60",
   "metadata": {},
   "outputs": [
    {
     "data": {
      "text/html": [
       "<div>\n",
       "<style scoped>\n",
       "    .dataframe tbody tr th:only-of-type {\n",
       "        vertical-align: middle;\n",
       "    }\n",
       "\n",
       "    .dataframe tbody tr th {\n",
       "        vertical-align: top;\n",
       "    }\n",
       "\n",
       "    .dataframe thead th {\n",
       "        text-align: right;\n",
       "    }\n",
       "</style>\n",
       "<table border=\"1\" class=\"dataframe\">\n",
       "  <thead>\n",
       "    <tr style=\"text-align: right;\">\n",
       "      <th></th>\n",
       "      <th>age</th>\n",
       "      <th>educ</th>\n",
       "      <th>black</th>\n",
       "      <th>hispan</th>\n",
       "      <th>married</th>\n",
       "      <th>nodegree</th>\n",
       "      <th>re74</th>\n",
       "      <th>re75</th>\n",
       "      <th>re78</th>\n",
       "    </tr>\n",
       "    <tr>\n",
       "      <th>treat</th>\n",
       "      <th></th>\n",
       "      <th></th>\n",
       "      <th></th>\n",
       "      <th></th>\n",
       "      <th></th>\n",
       "      <th></th>\n",
       "      <th></th>\n",
       "      <th></th>\n",
       "      <th></th>\n",
       "    </tr>\n",
       "  </thead>\n",
       "  <tbody>\n",
       "    <tr>\n",
       "      <th>0</th>\n",
       "      <td>112</td>\n",
       "      <td>112</td>\n",
       "      <td>112</td>\n",
       "      <td>112</td>\n",
       "      <td>112</td>\n",
       "      <td>112</td>\n",
       "      <td>112</td>\n",
       "      <td>112</td>\n",
       "      <td>112</td>\n",
       "    </tr>\n",
       "    <tr>\n",
       "      <th>1</th>\n",
       "      <td>131</td>\n",
       "      <td>131</td>\n",
       "      <td>131</td>\n",
       "      <td>131</td>\n",
       "      <td>131</td>\n",
       "      <td>131</td>\n",
       "      <td>131</td>\n",
       "      <td>131</td>\n",
       "      <td>131</td>\n",
       "    </tr>\n",
       "  </tbody>\n",
       "</table>\n",
       "</div>"
      ],
      "text/plain": [
       "       age  educ  black  hispan  married  nodegree  re74  re75  re78\n",
       "treat                                                               \n",
       "0      112   112    112     112      112       112   112   112   112\n",
       "1      131   131    131     131      131       131   131   131   131"
      ]
     },
     "execution_count": 14,
     "metadata": {},
     "output_type": "execute_result"
    }
   ],
   "source": [
    "lalonde[lalonde[\"re74\"]<=0].groupby(\"treat\").count()"
   ]
  },
  {
   "cell_type": "code",
   "execution_count": 11,
   "id": "3445c23a",
   "metadata": {},
   "outputs": [
    {
     "data": {
      "text/html": [
       "<div>\n",
       "<style scoped>\n",
       "    .dataframe tbody tr th:only-of-type {\n",
       "        vertical-align: middle;\n",
       "    }\n",
       "\n",
       "    .dataframe tbody tr th {\n",
       "        vertical-align: top;\n",
       "    }\n",
       "\n",
       "    .dataframe thead th {\n",
       "        text-align: right;\n",
       "    }\n",
       "</style>\n",
       "<table border=\"1\" class=\"dataframe\">\n",
       "  <thead>\n",
       "    <tr style=\"text-align: right;\">\n",
       "      <th></th>\n",
       "      <th>re74</th>\n",
       "      <th>re75</th>\n",
       "      <th>re78</th>\n",
       "    </tr>\n",
       "    <tr>\n",
       "      <th>treat</th>\n",
       "      <th></th>\n",
       "      <th></th>\n",
       "      <th></th>\n",
       "    </tr>\n",
       "  </thead>\n",
       "  <tbody>\n",
       "    <tr>\n",
       "      <th>0</th>\n",
       "      <td>5619.236506</td>\n",
       "      <td>2466.484443</td>\n",
       "      <td>6984.169742</td>\n",
       "    </tr>\n",
       "    <tr>\n",
       "      <th>1</th>\n",
       "      <td>2095.573689</td>\n",
       "      <td>1532.055314</td>\n",
       "      <td>6349.143530</td>\n",
       "    </tr>\n",
       "  </tbody>\n",
       "</table>\n",
       "</div>"
      ],
      "text/plain": [
       "              re74         re75         re78\n",
       "treat                                       \n",
       "0      5619.236506  2466.484443  6984.169742\n",
       "1      2095.573689  1532.055314  6349.143530"
      ]
     },
     "execution_count": 11,
     "metadata": {},
     "output_type": "execute_result"
    }
   ],
   "source": [
    "lalonde.groupby(\"treat\").mean()[[\"re74\",\"re75\",\"re78\"]]"
   ]
  },
  {
   "cell_type": "markdown",
   "id": "6562d41c",
   "metadata": {},
   "source": [
    "Por todo esto, ¿pareciera ser que el programa si funciona? Después de todo, los individuos del programa logran subir su salario mucho más que los individuos que no asisten al programa. \n",
    "\n",
    "Ahora, se podría decir también que no tenemos mucho fundamento para admitir esto, puesto que quizás las personas que asistieron al programa tenían de por sí un mayor potencial para subir su salario. Por supuesto, no podemos saber a ciencia cierta qué hubiese pasado si las personas que no tomaron el programa (_treatment_ = 0) en realidad lo toman. Pero podemos hacer varias cosas adicionales. \n",
    "\n",
    "Por ejemplo, podemos estimar una regresion lineal que tome en cuenta algunas variables, y que trate de predecir el salario del año 1978. Lo primero sería usar solo la variable **treat**\n"
   ]
  },
  {
   "cell_type": "code",
   "execution_count": 8,
   "id": "a9831b98",
   "metadata": {},
   "outputs": [
    {
     "name": "stdout",
     "output_type": "stream",
     "text": [
      "Coeficientes: \n",
      " [-635.02621204]\n",
      "Beta0: \n",
      " 6984.169742307693\n"
     ]
    }
   ],
   "source": [
    "from sklearn import datasets, linear_model\n",
    "from sklearn.metrics import mean_squared_error, r2_score\n",
    "\n",
    "X = lalonde[[\"treat\"]]\n",
    "y = lalonde[\"re78\"]\n",
    "\n",
    "# Crea un objeto regresión\n",
    "regr = linear_model.LinearRegression()\n",
    "regr.fit(X,y)\n",
    "\n",
    "print('Coeficientes: \\n', regr.coef_)\n",
    "print('Beta0: \\n', regr.intercept_)"
   ]
  },
  {
   "cell_type": "markdown",
   "id": "ac939901",
   "metadata": {},
   "source": [
    "Nos da que el efecto es negativo, es decir, que un incremento en **treat** debería contribuir de forma negativa al salario. Pero eso ya lo vimos cuando tomamos las medias (nota que la diferencia en las medias es exactamente lo mismo que el coeficiente de acá. ¿Puedes ver por qué?). \n",
    "\n",
    "Una cosa un poco más útil sería _controlar_ por algunas variables. Para esto, estimamos una regresión con algunos parámetros adicionales, en nuestro caso los salarios anteriores, y vemos el signo del coeficiente. "
   ]
  },
  {
   "cell_type": "code",
   "execution_count": 9,
   "id": "0e1ce37e",
   "metadata": {},
   "outputs": [
    {
     "name": "stdout",
     "output_type": "stream",
     "text": [
      "Coeficientes: \n",
      " [7.98127034e+02 3.48177080e-01 2.20770746e-01]\n",
      "Beta0: \n",
      " 4483.152775135084\n"
     ]
    }
   ],
   "source": [
    "\n",
    "X = lalonde[[\"treat\",\"re74\",\"re75\"]]\n",
    "y = lalonde[\"re78\"]\n",
    "\n",
    "# Crea un objeto regresión\n",
    "regr = linear_model.LinearRegression()\n",
    "regr.fit(X,y)\n",
    "\n",
    "print('Coeficientes: \\n', regr.coef_)\n",
    "print('Beta0: \\n', regr.intercept_)"
   ]
  },
  {
   "cell_type": "markdown",
   "id": "5120f717",
   "metadata": {},
   "source": [
    "Ahora el signo es positivo: cuando los salarios se mantienen constantes, un incremento en **treat** produce un  incremento importante en el salario. Ahora bien, podría ser que los salarios también dependieran de algo más, por ejemplo, es razonable pensar que los hombres con salarios bajos son más propensos para tomar el programa de entrenamiento. "
   ]
  },
  {
   "cell_type": "markdown",
   "id": "93fa7a70",
   "metadata": {},
   "source": [
    "## Matching y propensity score\n",
    "\n",
    "De forma un poco más avanzada, uno puede intentar _simular_ que los grupos **treat**=0 y **treat**=1 hayan sido dispuestos de forma aleatoria. En esta actividad vamos a ver una forma de hacerlo: vamos a hacerles matching y luego estratificar en cinco quintiles, usando lo que se conoce como el __propensity score__. \n",
    "\n",
    "Lo primero que vamos a hacer es usar dos clasificadores: regresión logística y random forest, para poder predecir que tan probable era que una persona recibiera el _treatment_, en este caso, el programa de entrenamiento laboral. "
   ]
  },
  {
   "cell_type": "code",
   "execution_count": 45,
   "id": "95cd4ccd",
   "metadata": {},
   "outputs": [
    {
     "name": "stderr",
     "output_type": "stream",
     "text": [
      "c:\\users\\juanr\\appdata\\local\\programs\\python\\python39\\lib\\site-packages\\sklearn\\linear_model\\_logistic.py:763: ConvergenceWarning: lbfgs failed to converge (status=1):\n",
      "STOP: TOTAL NO. of ITERATIONS REACHED LIMIT.\n",
      "\n",
      "Increase the number of iterations (max_iter) or scale the data as shown in:\n",
      "    https://scikit-learn.org/stable/modules/preprocessing.html\n",
      "Please also refer to the documentation for alternative solver options:\n",
      "    https://scikit-learn.org/stable/modules/linear_model.html#logistic-regression\n",
      "  n_iter_i = _check_optimize_result(\n",
      "c:\\users\\juanr\\appdata\\local\\programs\\python\\python39\\lib\\site-packages\\sklearn\\linear_model\\_logistic.py:763: ConvergenceWarning: lbfgs failed to converge (status=1):\n",
      "STOP: TOTAL NO. of ITERATIONS REACHED LIMIT.\n",
      "\n",
      "Increase the number of iterations (max_iter) or scale the data as shown in:\n",
      "    https://scikit-learn.org/stable/modules/preprocessing.html\n",
      "Please also refer to the documentation for alternative solver options:\n",
      "    https://scikit-learn.org/stable/modules/linear_model.html#logistic-regression\n",
      "  n_iter_i = _check_optimize_result(\n",
      "c:\\users\\juanr\\appdata\\local\\programs\\python\\python39\\lib\\site-packages\\sklearn\\linear_model\\_logistic.py:763: ConvergenceWarning: lbfgs failed to converge (status=1):\n",
      "STOP: TOTAL NO. of ITERATIONS REACHED LIMIT.\n",
      "\n",
      "Increase the number of iterations (max_iter) or scale the data as shown in:\n",
      "    https://scikit-learn.org/stable/modules/preprocessing.html\n",
      "Please also refer to the documentation for alternative solver options:\n",
      "    https://scikit-learn.org/stable/modules/linear_model.html#logistic-regression\n",
      "  n_iter_i = _check_optimize_result(\n",
      "c:\\users\\juanr\\appdata\\local\\programs\\python\\python39\\lib\\site-packages\\sklearn\\linear_model\\_logistic.py:763: ConvergenceWarning: lbfgs failed to converge (status=1):\n",
      "STOP: TOTAL NO. of ITERATIONS REACHED LIMIT.\n",
      "\n",
      "Increase the number of iterations (max_iter) or scale the data as shown in:\n",
      "    https://scikit-learn.org/stable/modules/preprocessing.html\n",
      "Please also refer to the documentation for alternative solver options:\n",
      "    https://scikit-learn.org/stable/modules/linear_model.html#logistic-regression\n",
      "  n_iter_i = _check_optimize_result(\n",
      "c:\\users\\juanr\\appdata\\local\\programs\\python\\python39\\lib\\site-packages\\sklearn\\linear_model\\_logistic.py:763: ConvergenceWarning: lbfgs failed to converge (status=1):\n",
      "STOP: TOTAL NO. of ITERATIONS REACHED LIMIT.\n",
      "\n",
      "Increase the number of iterations (max_iter) or scale the data as shown in:\n",
      "    https://scikit-learn.org/stable/modules/preprocessing.html\n",
      "Please also refer to the documentation for alternative solver options:\n",
      "    https://scikit-learn.org/stable/modules/linear_model.html#logistic-regression\n",
      "  n_iter_i = _check_optimize_result(\n",
      "c:\\users\\juanr\\appdata\\local\\programs\\python\\python39\\lib\\site-packages\\sklearn\\linear_model\\_logistic.py:763: ConvergenceWarning: lbfgs failed to converge (status=1):\n",
      "STOP: TOTAL NO. of ITERATIONS REACHED LIMIT.\n",
      "\n",
      "Increase the number of iterations (max_iter) or scale the data as shown in:\n",
      "    https://scikit-learn.org/stable/modules/preprocessing.html\n",
      "Please also refer to the documentation for alternative solver options:\n",
      "    https://scikit-learn.org/stable/modules/linear_model.html#logistic-regression\n",
      "  n_iter_i = _check_optimize_result(\n",
      "c:\\users\\juanr\\appdata\\local\\programs\\python\\python39\\lib\\site-packages\\sklearn\\linear_model\\_logistic.py:763: ConvergenceWarning: lbfgs failed to converge (status=1):\n",
      "STOP: TOTAL NO. of ITERATIONS REACHED LIMIT.\n",
      "\n",
      "Increase the number of iterations (max_iter) or scale the data as shown in:\n",
      "    https://scikit-learn.org/stable/modules/preprocessing.html\n",
      "Please also refer to the documentation for alternative solver options:\n",
      "    https://scikit-learn.org/stable/modules/linear_model.html#logistic-regression\n",
      "  n_iter_i = _check_optimize_result(\n",
      "c:\\users\\juanr\\appdata\\local\\programs\\python\\python39\\lib\\site-packages\\sklearn\\linear_model\\_logistic.py:763: ConvergenceWarning: lbfgs failed to converge (status=1):\n",
      "STOP: TOTAL NO. of ITERATIONS REACHED LIMIT.\n",
      "\n",
      "Increase the number of iterations (max_iter) or scale the data as shown in:\n",
      "    https://scikit-learn.org/stable/modules/preprocessing.html\n",
      "Please also refer to the documentation for alternative solver options:\n",
      "    https://scikit-learn.org/stable/modules/linear_model.html#logistic-regression\n",
      "  n_iter_i = _check_optimize_result(\n",
      "c:\\users\\juanr\\appdata\\local\\programs\\python\\python39\\lib\\site-packages\\sklearn\\linear_model\\_logistic.py:763: ConvergenceWarning: lbfgs failed to converge (status=1):\n",
      "STOP: TOTAL NO. of ITERATIONS REACHED LIMIT.\n",
      "\n",
      "Increase the number of iterations (max_iter) or scale the data as shown in:\n",
      "    https://scikit-learn.org/stable/modules/preprocessing.html\n",
      "Please also refer to the documentation for alternative solver options:\n",
      "    https://scikit-learn.org/stable/modules/linear_model.html#logistic-regression\n",
      "  n_iter_i = _check_optimize_result(\n"
     ]
    },
    {
     "name": "stdout",
     "output_type": "stream",
     "text": [
      "precision: 0.6265300596376447\n",
      "recall: 0.6461988304093567\n"
     ]
    },
    {
     "name": "stderr",
     "output_type": "stream",
     "text": [
      "c:\\users\\juanr\\appdata\\local\\programs\\python\\python39\\lib\\site-packages\\sklearn\\linear_model\\_logistic.py:763: ConvergenceWarning: lbfgs failed to converge (status=1):\n",
      "STOP: TOTAL NO. of ITERATIONS REACHED LIMIT.\n",
      "\n",
      "Increase the number of iterations (max_iter) or scale the data as shown in:\n",
      "    https://scikit-learn.org/stable/modules/preprocessing.html\n",
      "Please also refer to the documentation for alternative solver options:\n",
      "    https://scikit-learn.org/stable/modules/linear_model.html#logistic-regression\n",
      "  n_iter_i = _check_optimize_result(\n"
     ]
    }
   ],
   "source": [
    "from sklearn import linear_model\n",
    "from sklearn.model_selection import cross_val_predict\n",
    "from sklearn.model_selection import cross_val_score\n",
    "\n",
    "logistic = linear_model.LogisticRegression()\n",
    "\n",
    "X = lalonde[[\"age\", \"educ\", \"black\", \"hispan\", \"married\", \"nodegree\", \"re74\", \"re75\"]]\n",
    "y = lalonde[\"treat\"]\n",
    "\n",
    "logistic = linear_model.LogisticRegression()\n",
    "\n",
    "precision = cross_val_score(logistic, X, y, cv = 10, scoring = \"precision\")\n",
    "recall = cross_val_score(logistic, X, y, cv = 10, scoring = \"recall\")\n",
    "\n",
    "print(\"precision: \"+str(precision.mean()))\n",
    "print(\"recall: \"+str(recall.mean()))\n"
   ]
  },
  {
   "cell_type": "code",
   "execution_count": 35,
   "id": "4bdcd13f",
   "metadata": {},
   "outputs": [
    {
     "name": "stdout",
     "output_type": "stream",
     "text": [
      "precision: 0.6812616713352007\n",
      "recall: 0.46315789473684205\n"
     ]
    }
   ],
   "source": [
    "from sklearn.ensemble import RandomForestClassifier\n",
    "\n",
    "rforest = RandomForestClassifier(max_depth = 2)\n",
    "\n",
    "\n",
    "precision = cross_val_score(rforest, X, y, cv =10, scoring = \"precision\")\n",
    "recall = cross_val_score(rforest, X, y, cv = 10, scoring = \"recall\")\n",
    "\n",
    "print(\"precision: \"+str(precision.mean()))\n",
    "print(\"recall: \"+str(recall.mean()))\n",
    "\n"
   ]
  },
  {
   "cell_type": "markdown",
   "id": "b69e69d8",
   "metadata": {},
   "source": [
    "## Ejercicio 1\n",
    "\n",
    "¿Cuál de los clasificadores parece el mejor? Valdrá la pena probar con un KNN y ver que pasa?"
   ]
  },
  {
   "cell_type": "code",
   "execution_count": null,
   "id": "21ebac9c",
   "metadata": {},
   "outputs": [],
   "source": []
  },
  {
   "cell_type": "markdown",
   "id": "2d41d9c3",
   "metadata": {},
   "source": [
    "Ahora vamos a usar predict_proba para pedir la probabilidad de que una persona tenga el _treatment_ (osea que su variable treatment sea 1). Esta probabilidad es el propensity score. "
   ]
  },
  {
   "cell_type": "code",
   "execution_count": 48,
   "id": "108626d6",
   "metadata": {},
   "outputs": [
    {
     "name": "stderr",
     "output_type": "stream",
     "text": [
      "c:\\users\\juanr\\appdata\\local\\programs\\python\\python39\\lib\\site-packages\\sklearn\\linear_model\\_logistic.py:763: ConvergenceWarning: lbfgs failed to converge (status=1):\n",
      "STOP: TOTAL NO. of ITERATIONS REACHED LIMIT.\n",
      "\n",
      "Increase the number of iterations (max_iter) or scale the data as shown in:\n",
      "    https://scikit-learn.org/stable/modules/preprocessing.html\n",
      "Please also refer to the documentation for alternative solver options:\n",
      "    https://scikit-learn.org/stable/modules/linear_model.html#logistic-regression\n",
      "  n_iter_i = _check_optimize_result(\n"
     ]
    },
    {
     "data": {
      "text/html": [
       "<div>\n",
       "<style scoped>\n",
       "    .dataframe tbody tr th:only-of-type {\n",
       "        vertical-align: middle;\n",
       "    }\n",
       "\n",
       "    .dataframe tbody tr th {\n",
       "        vertical-align: top;\n",
       "    }\n",
       "\n",
       "    .dataframe thead th {\n",
       "        text-align: right;\n",
       "    }\n",
       "</style>\n",
       "<table border=\"1\" class=\"dataframe\">\n",
       "  <thead>\n",
       "    <tr style=\"text-align: right;\">\n",
       "      <th></th>\n",
       "      <th>treat</th>\n",
       "      <th>age</th>\n",
       "      <th>educ</th>\n",
       "      <th>black</th>\n",
       "      <th>hispan</th>\n",
       "      <th>married</th>\n",
       "      <th>nodegree</th>\n",
       "      <th>re74</th>\n",
       "      <th>re75</th>\n",
       "      <th>re78</th>\n",
       "      <th>propensity_score</th>\n",
       "    </tr>\n",
       "    <tr>\n",
       "      <th>id</th>\n",
       "      <th></th>\n",
       "      <th></th>\n",
       "      <th></th>\n",
       "      <th></th>\n",
       "      <th></th>\n",
       "      <th></th>\n",
       "      <th></th>\n",
       "      <th></th>\n",
       "      <th></th>\n",
       "      <th></th>\n",
       "      <th></th>\n",
       "    </tr>\n",
       "  </thead>\n",
       "  <tbody>\n",
       "    <tr>\n",
       "      <th>NSW1</th>\n",
       "      <td>1</td>\n",
       "      <td>37</td>\n",
       "      <td>11</td>\n",
       "      <td>1</td>\n",
       "      <td>0</td>\n",
       "      <td>1</td>\n",
       "      <td>1</td>\n",
       "      <td>0.0</td>\n",
       "      <td>0.0</td>\n",
       "      <td>9930.0460</td>\n",
       "      <td>0.432245</td>\n",
       "    </tr>\n",
       "    <tr>\n",
       "      <th>NSW2</th>\n",
       "      <td>1</td>\n",
       "      <td>22</td>\n",
       "      <td>9</td>\n",
       "      <td>0</td>\n",
       "      <td>1</td>\n",
       "      <td>0</td>\n",
       "      <td>1</td>\n",
       "      <td>0.0</td>\n",
       "      <td>0.0</td>\n",
       "      <td>3595.8940</td>\n",
       "      <td>0.133262</td>\n",
       "    </tr>\n",
       "    <tr>\n",
       "      <th>NSW3</th>\n",
       "      <td>1</td>\n",
       "      <td>30</td>\n",
       "      <td>12</td>\n",
       "      <td>1</td>\n",
       "      <td>0</td>\n",
       "      <td>0</td>\n",
       "      <td>0</td>\n",
       "      <td>0.0</td>\n",
       "      <td>0.0</td>\n",
       "      <td>24909.4500</td>\n",
       "      <td>0.724404</td>\n",
       "    </tr>\n",
       "    <tr>\n",
       "      <th>NSW4</th>\n",
       "      <td>1</td>\n",
       "      <td>27</td>\n",
       "      <td>11</td>\n",
       "      <td>1</td>\n",
       "      <td>0</td>\n",
       "      <td>0</td>\n",
       "      <td>1</td>\n",
       "      <td>0.0</td>\n",
       "      <td>0.0</td>\n",
       "      <td>7506.1460</td>\n",
       "      <td>0.660355</td>\n",
       "    </tr>\n",
       "    <tr>\n",
       "      <th>NSW5</th>\n",
       "      <td>1</td>\n",
       "      <td>33</td>\n",
       "      <td>8</td>\n",
       "      <td>1</td>\n",
       "      <td>0</td>\n",
       "      <td>0</td>\n",
       "      <td>1</td>\n",
       "      <td>0.0</td>\n",
       "      <td>0.0</td>\n",
       "      <td>289.7899</td>\n",
       "      <td>0.696809</td>\n",
       "    </tr>\n",
       "  </tbody>\n",
       "</table>\n",
       "</div>"
      ],
      "text/plain": [
       "      treat  age  educ  black  hispan  married  nodegree  re74  re75  \\\n",
       "id                                                                     \n",
       "NSW1      1   37    11      1       0        1         1   0.0   0.0   \n",
       "NSW2      1   22     9      0       1        0         1   0.0   0.0   \n",
       "NSW3      1   30    12      1       0        0         0   0.0   0.0   \n",
       "NSW4      1   27    11      1       0        0         1   0.0   0.0   \n",
       "NSW5      1   33     8      1       0        0         1   0.0   0.0   \n",
       "\n",
       "            re78  propensity_score  \n",
       "id                                  \n",
       "NSW1   9930.0460          0.432245  \n",
       "NSW2   3595.8940          0.133262  \n",
       "NSW3  24909.4500          0.724404  \n",
       "NSW4   7506.1460          0.660355  \n",
       "NSW5    289.7899          0.696809  "
      ]
     },
     "execution_count": 48,
     "metadata": {},
     "output_type": "execute_result"
    }
   ],
   "source": [
    "logistic.fit(X,y) # entrenamos el modelo ahora si con todos los datos\n",
    "\n",
    "prediction = logistic.predict_proba(X) \n",
    "\n",
    "# ahora le agregamos a nuestro dataframe el score. \n",
    "\n",
    "lalonde['propensity_score'] = pd.Series(prediction[:,1], index = lalonde.index)\n",
    "lalonde.head()"
   ]
  },
  {
   "cell_type": "markdown",
   "id": "ea3ba6ab",
   "metadata": {},
   "source": [
    "Ahora vamos a dividir nuestro dataset en cinco quintiles, de acuerdo al propensity score. Esto va a significar poder agrupar por individuos que se parezcan más o menos en cuanto a qué tan probable era que recibieran el _treatment_. "
   ]
  },
  {
   "cell_type": "code",
   "execution_count": 52,
   "id": "dde575ce",
   "metadata": {},
   "outputs": [
    {
     "data": {
      "text/plain": [
       "0.0    0.008379\n",
       "0.2    0.060138\n",
       "0.4    0.126356\n",
       "0.6    0.198206\n",
       "0.8    0.677507\n",
       "1.0    0.781261\n",
       "Name: propensity_score, dtype: float64"
      ]
     },
     "execution_count": 52,
     "metadata": {},
     "output_type": "execute_result"
    }
   ],
   "source": [
    "quintiles = lalonde['propensity_score'].quantile([0, .2, .4, .6, .8, 1])\n",
    "quintiles"
   ]
  },
  {
   "cell_type": "code",
   "execution_count": 59,
   "id": "a23153a6",
   "metadata": {},
   "outputs": [],
   "source": [
    "lalondeq1 = lalonde[lalonde[\"propensity_score\"]<0.060138]\n",
    "lalondeq2 = lalonde[(lalonde[\"propensity_score\"]>=0.060138) & (lalonde[\"propensity_score\"]<0.126356)]\n",
    "lalondeq3 = lalonde[(lalonde[\"propensity_score\"]>=0.126356) & (lalonde[\"propensity_score\"]<0.198206)]\n",
    "lalondeq4 = lalonde[(lalonde[\"propensity_score\"]>=0.198206) & (lalonde[\"propensity_score\"]<0.677507)]\n",
    "lalondeq5 = lalonde[lalonde[\"propensity_score\"]>=0.677507]"
   ]
  },
  {
   "cell_type": "markdown",
   "id": "4bcc5591",
   "metadata": {},
   "source": [
    "## Ejercicio 2\n",
    "\n",
    "Mira estos cinco quintiles. ¿En cuales la media del ingreso en el año 78 es más grande para el grupo _treatment_ = 1? ¿Hay alguno en que todavía sea más grande el de _treatment_ = 0? ¿Por qué crees que es eso? \n"
   ]
  },
  {
   "cell_type": "code",
   "execution_count": null,
   "id": "0b8a601c",
   "metadata": {},
   "outputs": [],
   "source": []
  },
  {
   "cell_type": "markdown",
   "id": "960b1d2c",
   "metadata": {},
   "source": [
    "## Ejercicio 3\n",
    "\n",
    "Ahora calcula estadísticos t para cada quintil. Cuenta, además, cuantos indviduos hay por quintil. ¿Hay algo que podamos decir con propiedad? \n"
   ]
  },
  {
   "cell_type": "code",
   "execution_count": null,
   "id": "3cc2904b",
   "metadata": {},
   "outputs": [],
   "source": []
  },
  {
   "cell_type": "code",
   "execution_count": null,
   "id": "5b25a6b1",
   "metadata": {},
   "outputs": [],
   "source": []
  }
 ],
 "metadata": {
  "kernelspec": {
   "display_name": "Python 3 (ipykernel)",
   "language": "python",
   "name": "python3"
  },
  "language_info": {
   "codemirror_mode": {
    "name": "ipython",
    "version": 3
   },
   "file_extension": ".py",
   "mimetype": "text/x-python",
   "name": "python",
   "nbconvert_exporter": "python",
   "pygments_lexer": "ipython3",
   "version": "3.9.4"
  }
 },
 "nbformat": 4,
 "nbformat_minor": 5
}
