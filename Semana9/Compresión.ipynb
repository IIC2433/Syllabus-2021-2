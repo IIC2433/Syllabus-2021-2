{
 "cells": [
  {
   "cell_type": "markdown",
   "metadata": {},
   "source": [
    "# Compresión con PCA\n",
    "\n",
    "En este _notebook_ vamos aprender cómo usar PCA para comprimir imágenes. Lo que vamos a hacer es tomar una foto del _dataset_ MNIST, aprender una representasión en una dimensión más baja, y visualizar la imagen después de haber \"perdido\" algo de información.\n",
    "\n",
    "## Ejemplo con el _dataset_ Iris\n",
    "\n",
    "Vamos a partir con el _dataset_ Iris, para entender a alto nivel que significa comprimir en este contexto. Nos vamos a quedar solamente con el largo y ancho del pétalo para poder visualizarlo."
   ]
  },
  {
   "cell_type": "code",
   "execution_count": 3,
   "metadata": {},
   "outputs": [
    {
     "data": {
      "text/html": [
       "<div>\n",
       "<style scoped>\n",
       "    .dataframe tbody tr th:only-of-type {\n",
       "        vertical-align: middle;\n",
       "    }\n",
       "\n",
       "    .dataframe tbody tr th {\n",
       "        vertical-align: top;\n",
       "    }\n",
       "\n",
       "    .dataframe thead th {\n",
       "        text-align: right;\n",
       "    }\n",
       "</style>\n",
       "<table border=\"1\" class=\"dataframe\">\n",
       "  <thead>\n",
       "    <tr style=\"text-align: right;\">\n",
       "      <th></th>\n",
       "      <th>petal length (cm)</th>\n",
       "      <th>petal width (cm)</th>\n",
       "    </tr>\n",
       "  </thead>\n",
       "  <tbody>\n",
       "    <tr>\n",
       "      <th>0</th>\n",
       "      <td>1.4</td>\n",
       "      <td>0.2</td>\n",
       "    </tr>\n",
       "    <tr>\n",
       "      <th>1</th>\n",
       "      <td>1.4</td>\n",
       "      <td>0.2</td>\n",
       "    </tr>\n",
       "    <tr>\n",
       "      <th>2</th>\n",
       "      <td>1.3</td>\n",
       "      <td>0.2</td>\n",
       "    </tr>\n",
       "    <tr>\n",
       "      <th>3</th>\n",
       "      <td>1.5</td>\n",
       "      <td>0.2</td>\n",
       "    </tr>\n",
       "    <tr>\n",
       "      <th>4</th>\n",
       "      <td>1.4</td>\n",
       "      <td>0.2</td>\n",
       "    </tr>\n",
       "    <tr>\n",
       "      <th>...</th>\n",
       "      <td>...</td>\n",
       "      <td>...</td>\n",
       "    </tr>\n",
       "    <tr>\n",
       "      <th>145</th>\n",
       "      <td>5.2</td>\n",
       "      <td>2.3</td>\n",
       "    </tr>\n",
       "    <tr>\n",
       "      <th>146</th>\n",
       "      <td>5.0</td>\n",
       "      <td>1.9</td>\n",
       "    </tr>\n",
       "    <tr>\n",
       "      <th>147</th>\n",
       "      <td>5.2</td>\n",
       "      <td>2.0</td>\n",
       "    </tr>\n",
       "    <tr>\n",
       "      <th>148</th>\n",
       "      <td>5.4</td>\n",
       "      <td>2.3</td>\n",
       "    </tr>\n",
       "    <tr>\n",
       "      <th>149</th>\n",
       "      <td>5.1</td>\n",
       "      <td>1.8</td>\n",
       "    </tr>\n",
       "  </tbody>\n",
       "</table>\n",
       "<p>150 rows × 2 columns</p>\n",
       "</div>"
      ],
      "text/plain": [
       "     petal length (cm)  petal width (cm)\n",
       "0                  1.4               0.2\n",
       "1                  1.4               0.2\n",
       "2                  1.3               0.2\n",
       "3                  1.5               0.2\n",
       "4                  1.4               0.2\n",
       "..                 ...               ...\n",
       "145                5.2               2.3\n",
       "146                5.0               1.9\n",
       "147                5.2               2.0\n",
       "148                5.4               2.3\n",
       "149                5.1               1.8\n",
       "\n",
       "[150 rows x 2 columns]"
      ]
     },
     "execution_count": 3,
     "metadata": {},
     "output_type": "execute_result"
    }
   ],
   "source": [
    "from sklearn.datasets import load_iris\n",
    "from sklearn.decomposition import PCA\n",
    "import pandas as pd\n",
    "\n",
    "iris = load_iris(as_frame=True)\n",
    "\n",
    "# Recordemos que el dataset original tiene 4 features\n",
    "X = iris['data']\n",
    "y = iris['target']\n",
    "\n",
    "X = X[[\"petal length (cm)\", \"petal width (cm)\"]]\n",
    "X"
   ]
  },
  {
   "cell_type": "markdown",
   "metadata": {},
   "source": [
    "Ahora vamos a reducir la dimensionalidad. Para esto vamos a usar la clase `PCA` que ya importamos. Le vamos a pedir que transforme este _dataset_ a uno de dos dimensiones."
   ]
  },
  {
   "cell_type": "code",
   "execution_count": 4,
   "metadata": {},
   "outputs": [
    {
     "data": {
      "image/png": "[encoded data removed]",
      "text/plain": [
       "<Figure size 432x288 with 1 Axes>"
      ]
     },
     "metadata": {
      "needs_background": "light"
     },
     "output_type": "display_data"
    }
   ],
   "source": [
    "import matplotlib.pyplot as plt\n",
    "\n",
    "cmap_bold = ['#a72618', '#34892d', '#262ea7']\n",
    "\n",
    "plt.scatter(X[y==0][\"petal length (cm)\"], X[y==0][\"petal width (cm)\"], c=cmap_bold[0], label='Iris Setosa')\n",
    "plt.scatter(X[y==1][\"petal length (cm)\"], X[y==1][\"petal width (cm)\"], c=cmap_bold[1], label='Iris Versicolor')\n",
    "plt.scatter(X[y==2][\"petal length (cm)\"], X[y==2][\"petal width (cm)\"], c=cmap_bold[2], label='Iris Virginica')\n",
    "\n",
    "plt.legend()\n",
    "plt.show()"
   ]
  },
  {
   "cell_type": "markdown",
   "metadata": {},
   "source": [
    "Ahora vamos a reducir la dimensión de este _dataset_ a una dimensión."
   ]
  },
  {
   "cell_type": "code",
   "execution_count": 6,
   "metadata": {},
   "outputs": [
    {
     "data": {
      "text/html": [
       "<div>\n",
       "<style scoped>\n",
       "    .dataframe tbody tr th:only-of-type {\n",
       "        vertical-align: middle;\n",
       "    }\n",
       "\n",
       "    .dataframe tbody tr th {\n",
       "        vertical-align: top;\n",
       "    }\n",
       "\n",
       "    .dataframe thead th {\n",
       "        text-align: right;\n",
       "    }\n",
       "</style>\n",
       "<table border=\"1\" class=\"dataframe\">\n",
       "  <thead>\n",
       "    <tr style=\"text-align: right;\">\n",
       "      <th></th>\n",
       "      <th>dimension 1</th>\n",
       "    </tr>\n",
       "  </thead>\n",
       "  <tbody>\n",
       "    <tr>\n",
       "      <th>0</th>\n",
       "      <td>-2.561012</td>\n",
       "    </tr>\n",
       "    <tr>\n",
       "      <th>1</th>\n",
       "      <td>-2.561012</td>\n",
       "    </tr>\n",
       "    <tr>\n",
       "      <th>2</th>\n",
       "      <td>-2.653190</td>\n",
       "    </tr>\n",
       "    <tr>\n",
       "      <th>3</th>\n",
       "      <td>-2.468834</td>\n",
       "    </tr>\n",
       "    <tr>\n",
       "      <th>4</th>\n",
       "      <td>-2.561012</td>\n",
       "    </tr>\n",
       "    <tr>\n",
       "      <th>...</th>\n",
       "      <td>...</td>\n",
       "    </tr>\n",
       "    <tr>\n",
       "      <th>145</th>\n",
       "      <td>1.755953</td>\n",
       "    </tr>\n",
       "    <tr>\n",
       "      <th>146</th>\n",
       "      <td>1.416510</td>\n",
       "    </tr>\n",
       "    <tr>\n",
       "      <th>147</th>\n",
       "      <td>1.639637</td>\n",
       "    </tr>\n",
       "    <tr>\n",
       "      <th>148</th>\n",
       "      <td>1.940308</td>\n",
       "    </tr>\n",
       "    <tr>\n",
       "      <th>149</th>\n",
       "      <td>1.469915</td>\n",
       "    </tr>\n",
       "  </tbody>\n",
       "</table>\n",
       "<p>150 rows × 1 columns</p>\n",
       "</div>"
      ],
      "text/plain": [
       "     dimension 1\n",
       "0      -2.561012\n",
       "1      -2.561012\n",
       "2      -2.653190\n",
       "3      -2.468834\n",
       "4      -2.561012\n",
       "..           ...\n",
       "145     1.755953\n",
       "146     1.416510\n",
       "147     1.639637\n",
       "148     1.940308\n",
       "149     1.469915\n",
       "\n",
       "[150 rows x 1 columns]"
      ]
     },
     "execution_count": 6,
     "metadata": {},
     "output_type": "execute_result"
    }
   ],
   "source": [
    "# Ahora vamos a reducir la dimensionalidad\n",
    "\n",
    "# Queremos reducir a dos dimensiones\n",
    "pca = PCA(n_components=1)\n",
    "\n",
    "# Guardamos el dataset pero ahora en su versión reducida en 2 dimensiones\n",
    "X_1D = pca.fit_transform(X)\n",
    "X_1D = pd.DataFrame(X_1D, columns=[\"dimension 1\"])\n",
    "X_1D"
   ]
  },
  {
   "cell_type": "markdown",
   "metadata": {},
   "source": [
    "Ahora vamos a visualizar en una recta cómo resultó la reducción de las dimensiones."
   ]
  },
  {
   "cell_type": "code",
   "execution_count": 8,
   "metadata": {},
   "outputs": [
    {
     "data": {
      "image/png": "[encoded data removed]",
      "text/plain": [
       "<Figure size 432x288 with 1 Axes>"
      ]
     },
     "metadata": {
      "needs_background": "light"
     },
     "output_type": "display_data"
    }
   ],
   "source": [
    "import matplotlib.pyplot as plt\n",
    "import numpy as np\n",
    "\n",
    "cmap_bold = ['#a72618', '#34892d', '#262ea7']\n",
    "y_0 = np.zeros(50)\n",
    "\n",
    "plt.scatter(X_1D[y==0][\"dimension 1\"], y_0, c=cmap_bold[0], label='Iris Setosa')\n",
    "plt.scatter(X_1D[y==1][\"dimension 1\"],y_0, c=cmap_bold[1], label='Iris Versicolor')\n",
    "plt.scatter(X_1D[y==2][\"dimension 1\"], y_0, c=cmap_bold[2], label='Iris Virginica')\n",
    "\n",
    "plt.legend()\n",
    "plt.show()"
   ]
  },
  {
   "cell_type": "markdown",
   "metadata": {},
   "source": [
    "Como vemos, las clases se aún se pueden distinguir. De hecho, para ver \"cuanto porcentaje de varianza conservamos\", podemos preguntarlo como vimos anteriormente."
   ]
  },
  {
   "cell_type": "code",
   "execution_count": 9,
   "metadata": {},
   "outputs": [
    {
     "data": {
      "text/plain": [
       "array([0.99025066])"
      ]
     },
     "execution_count": 9,
     "metadata": {},
     "output_type": "execute_result"
    }
   ],
   "source": [
    "pca.explained_variance_ratio_"
   ]
  },
  {
   "cell_type": "markdown",
   "metadata": {},
   "source": [
    "Esto quiere decir (a grandes rasgos) que esta dimensión guarda un 99% de la información del _dataset_. Ahora lo que vamos a ver es que podemos usar una transformación inversa, para pasar puntos en una dimensión a la dimensión original (dos dimensiones)."
   ]
  },
  {
   "cell_type": "code",
   "execution_count": 11,
   "metadata": {},
   "outputs": [
    {
     "data": {
      "text/html": [
       "<div>\n",
       "<style scoped>\n",
       "    .dataframe tbody tr th:only-of-type {\n",
       "        vertical-align: middle;\n",
       "    }\n",
       "\n",
       "    .dataframe tbody tr th {\n",
       "        vertical-align: top;\n",
       "    }\n",
       "\n",
       "    .dataframe thead th {\n",
       "        text-align: right;\n",
       "    }\n",
       "</style>\n",
       "<table border=\"1\" class=\"dataframe\">\n",
       "  <thead>\n",
       "    <tr style=\"text-align: right;\">\n",
       "      <th></th>\n",
       "      <th>dimension 1</th>\n",
       "      <th>dimension 2</th>\n",
       "    </tr>\n",
       "  </thead>\n",
       "  <tbody>\n",
       "    <tr>\n",
       "      <th>0</th>\n",
       "      <td>1.397316</td>\n",
       "      <td>0.206381</td>\n",
       "    </tr>\n",
       "    <tr>\n",
       "      <th>1</th>\n",
       "      <td>1.397316</td>\n",
       "      <td>0.206381</td>\n",
       "    </tr>\n",
       "    <tr>\n",
       "      <th>2</th>\n",
       "      <td>1.312349</td>\n",
       "      <td>0.170642</td>\n",
       "    </tr>\n",
       "    <tr>\n",
       "      <th>3</th>\n",
       "      <td>1.482284</td>\n",
       "      <td>0.242120</td>\n",
       "    </tr>\n",
       "    <tr>\n",
       "      <th>4</th>\n",
       "      <td>1.397316</td>\n",
       "      <td>0.206381</td>\n",
       "    </tr>\n",
       "    <tr>\n",
       "      <th>...</th>\n",
       "      <td>...</td>\n",
       "      <td>...</td>\n",
       "    </tr>\n",
       "    <tr>\n",
       "      <th>145</th>\n",
       "      <td>5.376598</td>\n",
       "      <td>1.880149</td>\n",
       "    </tr>\n",
       "    <tr>\n",
       "      <th>146</th>\n",
       "      <td>5.063707</td>\n",
       "      <td>1.748541</td>\n",
       "    </tr>\n",
       "    <tr>\n",
       "      <th>147</th>\n",
       "      <td>5.269381</td>\n",
       "      <td>1.835051</td>\n",
       "    </tr>\n",
       "    <tr>\n",
       "      <th>148</th>\n",
       "      <td>5.546533</td>\n",
       "      <td>1.951627</td>\n",
       "    </tr>\n",
       "    <tr>\n",
       "      <th>149</th>\n",
       "      <td>5.112935</td>\n",
       "      <td>1.769247</td>\n",
       "    </tr>\n",
       "  </tbody>\n",
       "</table>\n",
       "<p>150 rows × 2 columns</p>\n",
       "</div>"
      ],
      "text/plain": [
       "     dimension 1  dimension 2\n",
       "0       1.397316     0.206381\n",
       "1       1.397316     0.206381\n",
       "2       1.312349     0.170642\n",
       "3       1.482284     0.242120\n",
       "4       1.397316     0.206381\n",
       "..           ...          ...\n",
       "145     5.376598     1.880149\n",
       "146     5.063707     1.748541\n",
       "147     5.269381     1.835051\n",
       "148     5.546533     1.951627\n",
       "149     5.112935     1.769247\n",
       "\n",
       "[150 rows x 2 columns]"
      ]
     },
     "execution_count": 11,
     "metadata": {},
     "output_type": "execute_result"
    }
   ],
   "source": [
    "X_2D_from_1D = pca.inverse_transform(X_1D)\n",
    "df_2D_from_1D = pd.DataFrame(X_2D_from_1D, columns=[\"dimension 1\", \"dimension 2\"])\n",
    "df_2D_from_1D"
   ]
  },
  {
   "cell_type": "code",
   "execution_count": 13,
   "metadata": {},
   "outputs": [
    {
     "data": {
      "image/png": "[encoded data removed]",
      "text/plain": [
       "<Figure size 432x288 with 1 Axes>"
      ]
     },
     "metadata": {
      "needs_background": "light"
     },
     "output_type": "display_data"
    }
   ],
   "source": [
    "import matplotlib.pyplot as plt\n",
    "\n",
    "cmap_bold = ['#a72618', '#34892d', '#262ea7']\n",
    "\n",
    "plt.scatter(df_2D_from_1D[y==0][\"dimension 1\"], df_2D_from_1D[y==0][\"dimension 2\"], c=cmap_bold[0], label='Iris Setosa')\n",
    "plt.scatter(df_2D_from_1D[y==1][\"dimension 1\"], df_2D_from_1D[y==1][\"dimension 2\"], c=cmap_bold[1], label='Iris Versicolor')\n",
    "plt.scatter(df_2D_from_1D[y==2][\"dimension 1\"], df_2D_from_1D[y==2][\"dimension 2\"], c=cmap_bold[2], label='Iris Virginica')\n",
    "\n",
    "plt.legend()\n",
    "plt.show()"
   ]
  },
  {
   "cell_type": "markdown",
   "metadata": {},
   "source": [
    "¿Qué fue lo que pasó acá? ¿Por qué al volver a 2 dimensiones los datos se ven así? Esto es porque al haber pasado de dos dimensiones a una perdimos información. Esa información no la vamos a recuperar al volver a la dimensión original, pero si podemos tener una idea de cómo se verían nuestros datos en la dimensión original. Aquí lo que pasa es que los datos quedan sobre una recta, y perdimos la información de cuanto varía cada punto con respecto a la recta.\n",
    "\n",
    "Esta misma idea la podemos replicar con las imágenes del _dataset_ MNIST para comprimir una imagen a menos dimensiones, y luego volver a visualizarla aunque esté comprimida."
   ]
  },
  {
   "cell_type": "markdown",
   "metadata": {},
   "source": [
    "## Compresión de Imágenes del _dataset_ MNIST\n",
    "\n",
    "Ahora vamos a seguir con el mismo procedimiento pero utilizando el _dataset_ MNIST. Nuevamente, trabajaremos solamente con las primeras 2000 imágenes para que los procedimientos tomen menos tiempo."
   ]
  },
  {
   "cell_type": "code",
   "execution_count": 17,
   "metadata": {},
   "outputs": [
    {
     "data": {
      "text/plain": [
       "array([[-4.20347101e-01, -3.88576917e+00,  4.15501936e-01, ...,\n",
       "         6.98625188e-01,  5.71569041e-01,  2.61787310e-01],\n",
       "       [ 9.22649594e+00, -6.51331240e+00, -2.82104081e+00, ...,\n",
       "        -2.99857891e-02,  5.84122046e-02, -2.80955206e-01],\n",
       "       [ 2.22031477e+00,  9.11610892e+00, -4.48272620e+00, ...,\n",
       "        -9.13165655e-01,  6.25796242e-02, -1.16572380e+00],\n",
       "       ...,\n",
       "       [ 9.26338425e+00,  6.55218527e-01,  5.26029711e+00, ...,\n",
       "        -4.97429457e-03,  1.03797817e+00, -2.37501467e-01],\n",
       "       [-4.88053053e+00,  7.07698426e-02,  3.20772145e+00, ...,\n",
       "         1.05419535e-01, -4.84320996e-01, -7.90264103e-01],\n",
       "       [ 2.42143023e+01, -1.04139928e+00, -2.59444905e+00, ...,\n",
       "         5.59072013e-01,  3.82496885e-01, -2.16845531e-01]])"
      ]
     },
     "execution_count": 17,
     "metadata": {},
     "output_type": "execute_result"
    }
   ],
   "source": [
    "from sklearn.datasets import fetch_openml\n",
    "from sklearn.preprocessing import StandardScaler\n",
    "import numpy as np\n",
    "\n",
    "mnist = fetch_openml('mnist_784', version=1, as_frame=True)\n",
    "X, y = mnist['data'], mnist['target']\n",
    "y = y.astype(np.uint8)\n",
    "\n",
    "# Tomamos los primeros 2000 elementos para que tome menos tiempo.\n",
    "X, y = X[:2000], y[:2000]\n",
    "\n",
    "# Estandarizamos los datos\n",
    "std_scaler = StandardScaler()\n",
    "X_std = std_scaler.fit_transform(X)\n",
    "\n",
    "# 0.95 porque queremos mantener el 95% de la varianza\n",
    "pca = PCA(n_components=0.95)\n",
    "X_95 = pca.fit_transform(X_std)\n",
    "X_95"
   ]
  },
  {
   "cell_type": "markdown",
   "metadata": {},
   "source": [
    "Veamos la dimensión del _dataset_ comprimido."
   ]
  },
  {
   "cell_type": "code",
   "execution_count": 19,
   "metadata": {},
   "outputs": [
    {
     "data": {
      "text/plain": [
       "(2000, 233)"
      ]
     },
     "execution_count": 19,
     "metadata": {},
     "output_type": "execute_result"
    }
   ],
   "source": [
    "X_95.shape"
   ]
  },
  {
   "cell_type": "markdown",
   "metadata": {},
   "source": [
    "De las 784 _features_ nos quedamos con 233. Ahora vamos a transformar una imagen del _dataset_ a una versión comprimida. Luego vamos a visualizar esta versión comprimida."
   ]
  },
  {
   "cell_type": "code",
   "execution_count": 20,
   "metadata": {},
   "outputs": [
    {
     "data": {
      "image/png": "[encoded data removed]",
      "text/plain": [
       "<Figure size 432x288 with 1 Axes>"
      ]
     },
     "metadata": {
      "needs_background": "light"
     },
     "output_type": "display_data"
    }
   ],
   "source": [
    "some_digit = mnist[\"data\"].iloc[60000]\n",
    "some_digit_image = some_digit.values.reshape(28, 28)\n",
    "\n",
    "plt.imshow(some_digit_image, cmap='binary')\n",
    "plt.axis('off')\n",
    "plt.show()"
   ]
  },
  {
   "cell_type": "code",
   "execution_count": 25,
   "metadata": {},
   "outputs": [
    {
     "data": {
      "text/plain": [
       "array([[-4.66208156e+00,  4.67122578e+00, -7.38393216e+00,\n",
       "        -2.64111450e+00,  1.56883237e+00,  1.14664923e+00,\n",
       "        -3.84508502e+00,  5.72263339e+00,  5.23287303e+00,\n",
       "        -9.02298222e-01, -8.23035451e-01, -3.67598306e+00,\n",
       "        -4.63090500e-01, -5.35773330e-01, -3.37520878e+00,\n",
       "         8.39001139e-01, -5.88632854e-01, -2.87674888e+00,\n",
       "         1.91006491e+00,  2.42583980e+00,  1.18225600e+00,\n",
       "         5.33908195e-01,  2.38529325e+00, -2.17962412e-02,\n",
       "         1.18055256e+00,  4.69095927e+00,  3.73049337e-02,\n",
       "        -8.96533732e-01, -1.71588289e+00,  1.13643459e+00,\n",
       "        -1.30605120e+00,  1.05331634e-01,  6.80511846e-01,\n",
       "        -2.73880339e+00, -1.11918808e+00, -1.35254484e+00,\n",
       "        -1.04024096e+00,  6.78623906e-01, -7.26279181e-01,\n",
       "        -1.39679401e+00, -7.28640467e-02, -3.07736581e+00,\n",
       "         6.24134939e-01, -1.92206621e+00,  1.53929384e+00,\n",
       "        -1.58920658e+00, -3.97472260e-01,  7.14977243e-01,\n",
       "         1.61327354e+00, -7.91013397e-01, -7.52793906e-01,\n",
       "         6.47518764e-01,  6.67771082e-01,  7.60169567e-01,\n",
       "         1.53575569e-01,  1.41237004e+00,  8.53331885e-02,\n",
       "        -1.78645952e-01,  6.12186975e-01, -7.68055915e-01,\n",
       "        -2.72502231e-01,  2.54854433e-01,  7.89602199e-01,\n",
       "         3.46687980e-01, -9.98492176e-01,  3.41092052e-01,\n",
       "        -3.74734176e-01,  5.63480247e-02,  2.36339095e+00,\n",
       "        -6.02879416e-01,  1.80798772e+00,  1.51800316e+00,\n",
       "         1.84295086e+00,  7.53035127e-02,  1.40526152e+00,\n",
       "        -2.36302732e+00, -2.47471867e-01, -3.87978605e-01,\n",
       "        -1.70768797e-01,  7.38112619e-01, -1.77911232e-02,\n",
       "        -1.69971807e+00,  1.89454567e-01, -6.65707933e-01,\n",
       "        -8.57503585e-01,  3.15524074e-01,  3.46607619e-01,\n",
       "         2.72769142e-01,  1.24618887e+00, -3.26224911e-01,\n",
       "        -4.73409630e-01,  4.38665175e-03,  1.44901968e+00,\n",
       "        -3.33284542e-01,  9.19980796e-01, -2.29245224e-01,\n",
       "         5.96245999e-01, -1.04688321e+00, -1.08621153e+00,\n",
       "         3.31191141e-02,  3.99232241e-01,  8.30801139e-01,\n",
       "         6.83718346e-01, -1.99050700e+00,  1.57206126e-01,\n",
       "         6.01150635e-02,  1.46600138e-01,  1.06248082e+00,\n",
       "        -9.26181774e-01,  5.00822230e-01, -1.30053125e+00,\n",
       "         4.64554418e-01,  1.32816950e+00,  4.39074086e-01,\n",
       "        -1.10596247e+00,  9.33653194e-01, -4.06566610e-01,\n",
       "        -1.17135425e+00,  1.03606375e+00,  6.56743991e-01,\n",
       "        -9.98271473e-02, -1.94581112e-01,  1.71878169e-01,\n",
       "         1.94485844e-01, -1.15183912e-01,  4.87367878e-01,\n",
       "         9.99548461e-01, -3.08725826e-01,  5.66658534e-01,\n",
       "        -2.13894888e-02, -3.72567101e-01, -7.36782207e-01,\n",
       "         1.13712245e+00, -1.22830493e+00, -1.50693750e+00,\n",
       "         1.69149119e-02,  1.21793056e+00,  3.58130085e-01,\n",
       "         6.16120478e-01, -4.87622012e-01, -1.46041843e+00,\n",
       "        -6.39597467e-01,  8.44641751e-01,  1.36703839e-01,\n",
       "         2.95430486e-01,  9.22398621e-01, -1.65289477e-01,\n",
       "        -7.82505059e-01,  3.68864351e-01,  4.24857255e-01,\n",
       "        -4.78219947e-01, -6.04472815e-01, -6.83378826e-01,\n",
       "        -2.43350738e-01, -3.12140656e-02,  2.67555976e-01,\n",
       "        -1.00244563e+00,  1.02774905e-01, -1.27047444e+00,\n",
       "        -4.24904150e-01,  1.05364693e+00,  5.37153813e-01,\n",
       "         8.61104889e-03, -1.43507107e-01,  2.21315104e-01,\n",
       "         7.82254929e-01,  4.85137001e-01,  1.04874421e+00,\n",
       "         1.05920333e-01, -4.28403355e-01, -6.47135419e-01,\n",
       "        -8.43927070e-01, -5.85013044e-01,  4.01817038e-01,\n",
       "         6.58213457e-01,  8.85101388e-02,  6.36687518e-01,\n",
       "         1.31469014e+00,  1.10578267e+00,  4.93995613e-01,\n",
       "         3.16043545e-01,  8.87647667e-01,  5.40343872e-01,\n",
       "        -2.53101236e-01, -8.56085454e-01,  1.16957314e+00,\n",
       "         4.26715193e-01,  1.33922650e-01, -7.33967251e-01,\n",
       "        -2.41734536e-01,  5.56479400e-01, -2.13496228e-02,\n",
       "         5.03222711e-01, -5.05748359e-01, -7.77533222e-01,\n",
       "         6.40983517e-02, -1.25582261e-01,  3.02486535e-02,\n",
       "        -5.77240578e-01, -2.94979493e-01,  1.17688591e+00,\n",
       "        -6.59811000e-02, -1.12193032e-01,  7.44657054e-01,\n",
       "         2.47672816e-01,  1.22458031e-01, -9.39558448e-01,\n",
       "        -3.23631002e-01, -7.46677000e-01, -6.08384750e-01,\n",
       "         1.09148995e+00,  2.31047150e-02,  9.76768444e-01,\n",
       "         1.16347352e+00,  2.55001146e-01, -1.01922954e+00,\n",
       "        -4.57165194e-02, -3.24143998e-01,  1.95739456e-01,\n",
       "         4.52229045e-01,  1.19042694e-01,  8.90974632e-01,\n",
       "         3.10874432e-02, -8.80870255e-01,  1.24003935e-01,\n",
       "        -3.83126099e-01,  9.33669444e-01,  3.97412168e-01,\n",
       "        -5.27699769e-01,  7.02998565e-01, -4.52971541e-01,\n",
       "        -3.80569126e-01,  7.87747065e-02]])"
      ]
     },
     "execution_count": 25,
     "metadata": {},
     "output_type": "execute_result"
    }
   ],
   "source": [
    "some_digit_std = std_scaler.transform([some_digit])\n",
    "some_digit_compressed = pca.transform(some_digit_std)\n",
    "some_digit_compressed"
   ]
  },
  {
   "cell_type": "code",
   "execution_count": 26,
   "metadata": {},
   "outputs": [
    {
     "data": {
      "text/plain": [
       "(1, 233)"
      ]
     },
     "execution_count": 26,
     "metadata": {},
     "output_type": "execute_result"
    }
   ],
   "source": [
    "some_digit_compressed.shape"
   ]
  },
  {
   "cell_type": "markdown",
   "metadata": {},
   "source": [
    "Ahora lo vamos a descomprimir. Para esto usamos la transformada inversa de PCA y luego la del `StandardScaler`. Con eso vamos a generar una imagen de $28 \\times 28$ que podemos visualizar."
   ]
  },
  {
   "cell_type": "code",
   "execution_count": 34,
   "metadata": {},
   "outputs": [
    {
     "data": {
      "text/plain": [
       "(1, 784)"
      ]
     },
     "execution_count": 34,
     "metadata": {},
     "output_type": "execute_result"
    }
   ],
   "source": [
    "some_digit_inv = pca.inverse_transform(some_digit_compressed)\n",
    "some_digit_inv_no_std = std_scaler.inverse_transform(some_digit_inv)\n",
    "some_digit_inv_no_std.shape"
   ]
  },
  {
   "cell_type": "markdown",
   "metadata": {},
   "source": [
    "Ahora vamos a mostrar la versión descomprimida."
   ]
  },
  {
   "cell_type": "code",
   "execution_count": 35,
   "metadata": {},
   "outputs": [
    {
     "data": {
      "text/plain": [
       "array([ 5.82432716e-17, -2.29255821e-16, -3.24067881e-16,  2.99268386e-15,\n",
       "       -1.15062380e-15,  1.30544327e-16, -2.30533280e-15, -3.44785351e-16,\n",
       "       -8.30276264e-16,  2.71807658e-15,  3.14225369e-15,  1.56835424e-15,\n",
       "        9.25664199e-16,  1.71386533e-15,  2.04905782e-15,  3.02407114e-16,\n",
       "       -2.13581336e-16, -2.50710194e-16,  1.24108533e-15,  1.17319019e-16,\n",
       "        2.83321191e-15,  1.16066699e-15,  6.06908327e-16,  3.94842744e-16,\n",
       "        1.96343732e-16, -4.62622478e-16,  6.09180001e-17,  1.92795213e-16,\n",
       "       -1.55288577e-15,  1.72583408e-15,  3.16501784e-16, -5.37665613e-16,\n",
       "        1.38657236e-16,  2.55319368e-16,  1.46407944e-16,  1.87817593e-15,\n",
       "        1.74959295e-15, -1.14376786e-15,  8.14870447e-03,  5.05219677e-02,\n",
       "        1.03036047e-01,  2.80084096e-01,  2.32016620e-01,  1.41807585e-01,\n",
       "       -6.82732624e-02, -2.94648272e-01,  4.02479893e-01,  4.37834929e-02,\n",
       "       -4.17664904e-01,  1.68702314e-03,  7.50794195e-02,  1.88566591e-16,\n",
       "       -2.99475025e-16,  6.36360604e-16,  2.35493443e-17, -2.38924462e-16,\n",
       "        6.20162308e-16,  7.22278984e-16, -7.59849355e-16,  2.73754594e-16,\n",
       "       -5.82047199e-16,  4.26897994e-16, -2.40729389e-16, -1.44233677e-03,\n",
       "       -2.86406872e-02, -5.66518626e-02,  4.46776604e-02,  8.65779117e-01,\n",
       "        1.24141869e+00, -8.75479445e-01, -2.56750008e+00,  5.38318299e+00,\n",
       "        4.14547765e-01, -4.38333505e+00,  2.42525202e-01,  2.10526113e+00,\n",
       "       -1.27587003e+00, -1.10677011e-01, -2.38053315e-01, -1.10313594e-01,\n",
       "       -5.11253625e-02, -1.10307294e-15, -2.00158558e-16,  1.37536635e-17,\n",
       "        8.98707983e-16, -7.89350536e-17, -1.80892865e-17, -4.07948860e-17,\n",
       "        5.43814729e-16, -5.90534829e-16, -6.31028444e-02, -5.25801857e-02,\n",
       "        9.57453232e-01, -1.74654132e+00, -3.56370437e+00,  1.73674926e+00,\n",
       "       -2.41972951e+00, -6.56613501e+00,  1.44738684e+00,  2.63756982e+00,\n",
       "       -1.21962501e+00,  1.61200316e+00,  5.06128454e+00, -3.54421007e-01,\n",
       "       -2.76126434e+00,  1.87444075e-01,  1.51978712e-02, -5.81918627e-03,\n",
       "       -4.49911041e-02, -2.80560684e-16, -6.47328869e-16, -4.80975294e-16,\n",
       "        2.38214500e-16,  5.16590536e-16, -6.77073252e-16, -4.59664470e-16,\n",
       "       -1.19774433e-01,  1.19725957e-01,  5.78156824e-01,  1.47960554e+00,\n",
       "        4.50202672e+00, -9.33151586e-01,  1.09224328e+00,  1.20354269e+01,\n",
       "        7.38577361e+00,  8.76577219e-01, -8.97736043e+00, -1.48137050e+01,\n",
       "       -1.47106693e+01, -4.37983010e+00,  1.83650197e+00,  5.91895897e+00,\n",
       "        3.94510740e+00,  1.13079153e+00, -8.97761777e-01,  2.50417206e-01,\n",
       "        8.84561155e-02,  1.63766528e-02, -5.01229686e-16,  9.01944343e-16,\n",
       "        4.08046303e-16, -7.06129261e-17, -1.94844656e-16,  2.16360706e-01,\n",
       "        5.18299283e-01, -1.78077107e+00, -3.17510780e+00, -4.66721068e+00,\n",
       "       -9.53768463e+00, -2.10270805e+01, -6.57005127e+00,  3.22740391e+00,\n",
       "       -9.26868440e-01,  1.74294044e+01,  2.50212183e+01,  4.01122095e+01,\n",
       "        3.84256189e+01,  1.84977370e+01, -1.50816165e+00, -4.12097193e+00,\n",
       "        1.29225712e+00,  5.97705707e+00,  3.63837998e+00,  3.17931663e+00,\n",
       "        6.94360198e-01, -1.05240827e+00,  1.80480524e-01,  4.59057107e-16,\n",
       "        6.47045203e-17,  2.49655896e-17,  2.23436160e-16,  1.07994414e+00,\n",
       "        2.17317496e+00, -6.20705276e+00,  3.37244395e+00,  2.68820900e+01,\n",
       "        2.48059631e+01,  5.45740069e+00, -1.21802265e+01, -2.70165873e+01,\n",
       "       -4.02221740e+01, -2.96401385e+01, -3.13621775e+01, -3.27024796e+01,\n",
       "       -3.87451798e+01, -4.28079545e+01, -2.64974627e+01, -3.32030261e+01,\n",
       "       -2.12512263e+01, -4.49737657e+00, -1.91846338e+00, -1.43025334e+00,\n",
       "        3.10243602e+00,  5.21814608e-01, -7.81865032e-01, -4.15261608e-01,\n",
       "        1.61694494e-02, -8.57039106e-01,  3.87928781e-02, -2.52090360e+00,\n",
       "       -3.21521405e+00,  8.22971958e+00,  7.38531295e+01,  1.68665215e+02,\n",
       "        1.70452675e+02,  1.50166405e+02,  1.19796927e+02,  9.24061526e+01,\n",
       "        4.37689006e+01,  2.46893270e+01,  1.34451955e+01,  2.21776413e+01,\n",
       "        2.55028289e+01,  3.73671895e+01,  5.77536027e+01,  3.92159856e+01,\n",
       "        1.03911255e+01,  1.47443711e+01, -8.92602723e+00, -9.67280511e+00,\n",
       "        1.75261476e+00, -3.86142870e-01,  1.97428352e+00, -1.12859502e-01,\n",
       "        6.57098901e-02,  8.66957712e-02,  7.18140731e-02, -1.82447281e+00,\n",
       "       -2.56444031e+00,  4.83953169e+01,  1.40546627e+02,  2.50765176e+02,\n",
       "        2.60656689e+02,  2.18463337e+02,  1.89411636e+02,  2.00257098e+02,\n",
       "        2.06243995e+02,  1.96831198e+02,  1.88892849e+02,  1.96200351e+02,\n",
       "        2.03713355e+02,  1.91550801e+02,  1.63432805e+02,  1.91853104e+02,\n",
       "        1.45007896e+02,  7.87734394e+01,  1.73247515e+01, -1.01168296e+01,\n",
       "       -1.13511046e+00, -3.86118006e-01,  5.56958822e-01, -2.68536650e-16,\n",
       "        1.06649560e-02, -2.04399497e-01,  4.02487532e-01,  1.73996467e+00,\n",
       "       -1.25942149e+01,  2.33060670e+01,  7.41409462e+01,  1.20366310e+02,\n",
       "        1.20679931e+02,  1.14702544e+02,  1.57221240e+02,  2.06804561e+02,\n",
       "        2.29053793e+02,  2.39504869e+02,  2.25205967e+02,  2.37760689e+02,\n",
       "        2.53050400e+02,  2.17595318e+02,  1.79593927e+02,  2.48271287e+02,\n",
       "        2.36862970e+02,  1.19159654e+02,  2.98147046e+01, -2.57034262e+00,\n",
       "        3.35128231e+00,  1.79303646e+00, -1.09180211e+00,  2.61032534e-17,\n",
       "        4.14183089e-16,  1.72613976e-01,  1.25796798e+00, -1.10373600e+00,\n",
       "       -1.15997008e+01,  1.09036651e-01,  1.04040055e+01, -1.18445728e+00,\n",
       "        8.95585100e+00,  2.37830439e+01,  5.65137408e+01,  4.99908740e+01,\n",
       "        5.88510416e+01,  7.38576440e+01,  5.58572992e+01,  9.12560334e+01,\n",
       "        1.08194425e+02,  7.52043186e+01,  1.12120866e+02,  2.36957552e+02,\n",
       "        2.38359310e+02,  9.26116640e+01,  7.44677698e+00, -9.49158354e+00,\n",
       "       -3.95123988e+00, -2.50666189e+00,  4.21820379e-01, -7.47821915e-17,\n",
       "       -3.10509792e-17,  2.78207545e-01, -4.69744885e-01, -1.50194842e+00,\n",
       "        7.87625179e-01,  1.26519338e+00, -7.01665239e+00, -3.03908180e+01,\n",
       "       -1.61188334e+01, -1.07538255e+00, -7.32430149e+00, -1.47944030e+01,\n",
       "       -1.09754853e+01, -1.05688990e+01, -1.77470073e+01,  1.26535937e+01,\n",
       "       -1.99230249e+00, -2.56123631e+01,  1.17083139e+02,  2.64904355e+02,\n",
       "        1.96263148e+02,  4.44273705e+01, -9.37733701e+00,  2.20233251e+00,\n",
       "        1.18835234e+00,  4.77419908e-01, -1.26139577e-02,  1.37134134e-16,\n",
       "       -5.13238371e-17,  2.92507933e-01, -2.23117541e+00, -4.04439790e-01,\n",
       "        5.60639622e+00, -2.41951475e+00, -1.39882074e+00,  2.16519075e+00,\n",
       "        3.30205190e+00, -4.38289297e-01, -3.23439454e+01, -1.58670820e+00,\n",
       "        6.74989617e-01, -5.95016155e+00, -4.15473988e+00, -6.60125622e+00,\n",
       "       -2.33464254e+01,  2.46412004e+00,  1.92562902e+02,  2.55024121e+02,\n",
       "        1.14572785e+02,  8.26821348e+00, -1.32712157e+01,  7.23857468e+00,\n",
       "        3.60677434e+00,  6.26582993e-01, -1.00562888e-02,  2.82251859e-19,\n",
       "       -9.82132615e-20,  4.16011283e-02,  7.12579433e-01, -1.58957631e+00,\n",
       "        2.89724985e+00, -3.20266095e+00,  7.32767448e+00,  9.06768117e+00,\n",
       "        7.15351391e-01, -7.76340163e+00, -5.66764953e+00,  2.08946495e+01,\n",
       "        6.96967795e+00,  6.29905672e+00, -1.18575050e+00, -9.64089234e+00,\n",
       "        2.69414708e+01,  1.42484295e+02,  2.62305486e+02,  1.95902139e+02,\n",
       "        3.81415193e+01, -1.44507540e+01, -2.53521074e+00,  2.34225008e+00,\n",
       "       -1.29882548e+00, -1.06281501e-01, -1.16257674e-03,  3.82751204e-21,\n",
       "        3.20990887e-21,  7.28938167e-22,  1.14947824e-01, -1.95919977e-01,\n",
       "        2.83925987e+00, -1.50227047e-01,  2.89536371e-03, -2.46517989e+00,\n",
       "       -5.84388799e+00,  5.80302842e+00,  2.09677921e+01,  8.41927302e+00,\n",
       "       -1.21205396e+01,  7.51497372e+00,  4.64713724e+00, -2.83443584e+01,\n",
       "        1.00576667e+02,  2.35396378e+02,  2.45542764e+02,  9.74509611e+01,\n",
       "       -5.56361270e+00,  4.08549967e+00,  2.50456953e+00, -2.33640636e+00,\n",
       "       -1.71154880e+00, -8.16215468e-01,  9.95316182e-03,  5.02678864e-21,\n",
       "       -4.11687690e-21,  5.03125023e-21,  3.67862378e-21,  8.46485598e-01,\n",
       "       -1.44439699e-01, -4.07997721e+00,  4.89992314e+00, -4.43647777e+00,\n",
       "        4.65261977e+00,  1.16559486e+01, -2.46445606e+00, -3.07568213e+01,\n",
       "       -9.22100090e-01,  1.46896209e+01, -1.75172990e+01, -2.58442934e+01,\n",
       "        1.40650656e+02,  2.45453367e+02,  1.75560435e+02,  3.14511195e+01,\n",
       "       -6.21381654e+00,  1.45788033e+01,  5.63350411e+00,  2.16292371e-02,\n",
       "        2.79071604e+00,  1.40330255e+00, -2.08176252e-01, -1.42215291e-21,\n",
       "        3.48733366e-22, -4.91448120e-21,  2.90603920e-01, -1.85966503e-01,\n",
       "       -6.20054312e-01, -2.64633905e+00,  2.82734737e-02, -1.71877343e+01,\n",
       "       -4.85727779e+00,  3.01363089e+00, -1.84036233e+01, -1.49579862e+01,\n",
       "        3.30022138e+01,  3.17131861e+01, -1.85800294e+01,  3.75528478e+01,\n",
       "        1.83564754e+02,  2.29413533e+02,  8.73186762e+01, -1.49234709e+01,\n",
       "       -6.23653014e+00, -2.00481468e+00, -1.53658553e+01, -8.86706747e+00,\n",
       "        1.91759044e+00, -3.69563850e-01, -2.56671921e-01,  3.62045407e-21,\n",
       "       -3.43949287e-21,  3.88946527e-21, -1.54288545e-01, -2.86526789e+00,\n",
       "        9.56142687e-01,  7.20795059e+00,  2.71971748e+00, -6.80100531e+00,\n",
       "       -3.55282429e+00,  1.27654563e+01, -5.27182450e+00,  1.62533848e+01,\n",
       "        2.06525362e+01, -1.75526121e+01, -5.12890089e+00,  1.39325981e+02,\n",
       "        2.57324622e+02,  1.61998906e+02,  3.48342269e+01, -2.38904385e+01,\n",
       "        6.79922085e+00, -2.18293230e+00,  1.08726911e+00, -3.69819666e-01,\n",
       "        5.44840382e-01, -4.05089011e-01,  1.54589464e-01,  2.02943946e-01,\n",
       "       -5.91082550e-22, -5.07351747e-21, -1.40479294e-01, -3.92360326e-01,\n",
       "       -1.12358390e+00,  6.04877581e+00,  8.03991599e-01,  4.42861552e-01,\n",
       "        4.01941648e+00,  1.68215110e+00, -8.32006990e+00, -3.51866419e-02,\n",
       "       -2.17896932e+01, -2.00500401e+01,  8.43350853e+01,  2.45786587e+02,\n",
       "        2.50542560e+02,  7.96115346e+01, -1.00412194e+01, -2.28137534e+01,\n",
       "        1.60766782e+01, -6.85629243e-01,  3.64248667e+00,  3.76892238e+00,\n",
       "        3.81935101e+00, -4.82492240e-01, -1.80134152e-01, -4.36311979e-02,\n",
       "       -8.52513861e-22, -5.13378969e-22, -5.57748032e-02,  3.28840476e+00,\n",
       "       -3.62954609e+00, -2.45803596e+00, -5.35549463e+00,  5.51486476e+00,\n",
       "        5.24990549e+00, -1.97012150e+00,  3.82545309e+00,  1.44834588e+00,\n",
       "       -9.74798558e+00,  7.15221910e+01,  2.08579865e+02,  2.64622666e+02,\n",
       "        1.36124487e+02,  7.51317030e+00, -2.51917887e+01, -3.01118919e+00,\n",
       "        1.23435325e+01,  2.42276739e+00,  3.09163286e+00, -1.79141690e+00,\n",
       "       -1.98470131e+00, -1.11137196e-01,  1.48988308e-02, -5.42376560e-02,\n",
       "       -1.82830723e-22,  9.10347104e-22, -1.17891755e+00,  2.15023269e+00,\n",
       "       -3.32222250e+00,  4.53733680e+00, -2.40621465e+00,  2.46650621e+00,\n",
       "        4.27132414e+00, -3.98853143e+00, -9.68767684e+00, -1.25302628e+01,\n",
       "        2.68604380e+01,  1.57377189e+02,  2.72882824e+02,  2.17629545e+02,\n",
       "        3.50666445e+01,  1.93199449e+00, -5.95813990e+00,  1.08545726e+01,\n",
       "        6.42991890e+00, -7.92388060e+00, -6.12869597e+00,  2.77248801e-01,\n",
       "        3.77635184e+00, -4.49155854e-01, -1.31708615e-03,  4.06505486e-22,\n",
       "       -6.20343746e-22,  6.84989632e-22,  1.29367538e-01, -3.41477164e-01,\n",
       "        7.10558758e-01,  1.29147806e+01, -2.96355135e+00, -8.67438189e+00,\n",
       "        5.45979861e+00,  3.02989912e+00, -1.31150037e+01, -7.80368237e+00,\n",
       "        9.07541771e+01,  2.23821219e+02,  2.41802746e+02,  8.90476322e+01,\n",
       "        1.12296635e+01,  1.76553499e+01, -9.23138138e-01, -5.83833665e+00,\n",
       "       -1.20050487e+01,  3.08450771e+00,  2.19184908e-01,  1.64906103e+00,\n",
       "        1.17803482e-01, -1.40800936e-03, -7.94541501e-01, -1.47148313e-26,\n",
       "        8.15094221e-26, -1.81845717e-26,  2.84023951e-01, -1.03085923e+00,\n",
       "       -7.14982307e+00,  8.91244130e+00, -1.00250420e+00, -1.39982277e+01,\n",
       "       -6.19550459e+00, -7.74089147e+00, -1.52388404e+01,  5.18407312e+01,\n",
       "        1.87884371e+02,  2.49166663e+02,  1.58037885e+02, -1.30217623e+01,\n",
       "       -2.75968593e+00,  3.27790738e+00, -5.78627926e+00, -8.65621635e+00,\n",
       "       -3.22122006e+00,  6.18742160e+00,  2.71936988e+00, -3.39644179e-01,\n",
       "       -2.02215680e+00,  2.15287758e-01,  2.09864805e-04, -1.38143219e-41,\n",
       "        2.08862537e-41, -2.51373209e-41,  5.81695340e-02, -9.37794874e-01,\n",
       "       -5.02093274e-01,  2.96052733e+00,  1.02409116e-01, -7.75455064e+00,\n",
       "        1.21808442e+01,  9.24845377e+00,  1.40677948e+01,  1.16494479e+02,\n",
       "        2.70752538e+02,  2.39000238e+02,  7.05776921e+01, -3.67323131e+01,\n",
       "        8.38866407e-01, -9.96463573e-01,  2.07755839e+00,  6.66505611e+00,\n",
       "        6.23072682e+00, -2.51065427e+00, -4.00208713e-01,  7.17118999e-01,\n",
       "        3.96013427e-02,  0.00000000e+00,  0.00000000e+00,  0.00000000e+00,\n",
       "        0.00000000e+00,  0.00000000e+00,  0.00000000e+00,  1.34237745e-01,\n",
       "        3.17739127e+00,  4.68437603e-01, -7.24371088e+00, -7.14869445e+00,\n",
       "        1.23074858e+01,  7.24249772e+00,  5.88993646e+01,  1.94074082e+02,\n",
       "        3.00239154e+02,  2.16822130e+02,  7.71029578e+01,  4.14679009e+00,\n",
       "        8.84310574e+00, -8.79592534e+00,  4.05928306e+00,  2.76275315e+00,\n",
       "       -5.41468414e+00, -7.63694555e-01,  5.19823174e-01, -9.34197018e-02,\n",
       "       -8.44835252e-02,  0.00000000e+00,  0.00000000e+00,  0.00000000e+00,\n",
       "        0.00000000e+00,  0.00000000e+00,  0.00000000e+00, -1.94351751e-01,\n",
       "        6.44425392e-01,  1.10045716e+00, -2.77045986e+00,  7.21019774e+00,\n",
       "       -6.02130802e-01, -8.66464335e+00,  1.02888277e+02,  2.60512154e+02,\n",
       "        2.96466951e+02,  1.63986191e+02,  4.56586139e+01, -4.42914896e-01,\n",
       "        6.69481371e-01, -8.99086084e+00, -1.61480012e+00,  2.19027289e+00,\n",
       "        1.48908472e+00,  1.00209499e+00,  4.68540870e-01, -4.76107169e-02,\n",
       "       -1.52242467e-01,  0.00000000e+00,  0.00000000e+00,  0.00000000e+00,\n",
       "        0.00000000e+00,  0.00000000e+00,  0.00000000e+00, -2.88239238e-02,\n",
       "        2.92518178e-01,  1.03590439e-01, -1.90061938e+00,  2.93620551e+00,\n",
       "       -1.89044865e+01,  1.21929469e+01,  1.38203479e+02,  2.35860232e+02,\n",
       "        1.80589291e+02,  5.58697581e+01, -1.50698081e+01, -1.00112495e+01,\n",
       "        1.67177820e+01, -3.65507943e-01, -9.51714225e-01, -1.48094935e+00,\n",
       "       -1.20635743e+00, -2.61753540e-01,  3.28955990e-02,  0.00000000e+00,\n",
       "        0.00000000e+00,  0.00000000e+00,  0.00000000e+00,  0.00000000e+00,\n",
       "        0.00000000e+00,  0.00000000e+00,  0.00000000e+00,  0.00000000e+00,\n",
       "        0.00000000e+00, -2.01640011e-01,  3.92848636e-01,  2.56406780e+00,\n",
       "       -1.25267928e+00, -2.00776026e+00,  2.89758865e+00,  2.71717786e+00,\n",
       "       -6.00527361e-01,  2.00987600e+00,  1.20335888e+00, -1.06153552e+00,\n",
       "       -8.90233677e-01, -8.95262171e-01,  5.00133243e-01,  5.99489999e-01,\n",
       "        1.47234826e-01,  8.08594355e-02,  5.01868755e-02,  0.00000000e+00,\n",
       "        0.00000000e+00,  0.00000000e+00,  0.00000000e+00,  0.00000000e+00])"
      ]
     },
     "execution_count": 35,
     "metadata": {},
     "output_type": "execute_result"
    }
   ],
   "source": [
    "some_digit_inv_no_std = some_digit_inv_no_std[0]\n",
    "some_digit_inv_no_std"
   ]
  },
  {
   "cell_type": "code",
   "execution_count": 36,
   "metadata": {},
   "outputs": [
    {
     "data": {
      "text/plain": [
       "(784,)"
      ]
     },
     "execution_count": 36,
     "metadata": {},
     "output_type": "execute_result"
    }
   ],
   "source": [
    "some_digit_inv_no_std.shape"
   ]
  },
  {
   "cell_type": "markdown",
   "metadata": {},
   "source": [
    "Y ahora vamos a visualizar."
   ]
  },
  {
   "cell_type": "code",
   "execution_count": 39,
   "metadata": {},
   "outputs": [
    {
     "data": {
      "image/png": "[encoded data removed]",
      "text/plain": [
       "<Figure size 432x288 with 1 Axes>"
      ]
     },
     "metadata": {
      "needs_background": "light"
     },
     "output_type": "display_data"
    }
   ],
   "source": [
    "some_digit_image_v2 = some_digit_inv_no_std.reshape(28, 28)\n",
    "\n",
    "plt.imshow(some_digit_image_v2, cmap='binary')\n",
    "plt.axis('off')\n",
    "plt.show()"
   ]
  },
  {
   "cell_type": "markdown",
   "metadata": {},
   "source": [
    "Como vemos, hay pérdida de calidad, pero podemos ver de forma clara el dígito."
   ]
  },
  {
   "cell_type": "code",
   "execution_count": null,
   "metadata": {},
   "outputs": [],
   "source": []
  }
 ],
 "metadata": {
  "kernelspec": {
   "display_name": "Python 3 (ipykernel)",
   "language": "python",
   "name": "python3"
  },
  "language_info": {
   "codemirror_mode": {
    "name": "ipython",
    "version": 3
   },
   "file_extension": ".py",
   "mimetype": "text/x-python",
   "name": "python",
   "nbconvert_exporter": "python",
   "pygments_lexer": "ipython3",
   "version": "3.9.4"
  }
 },
 "nbformat": 4,
 "nbformat_minor": 4
}
